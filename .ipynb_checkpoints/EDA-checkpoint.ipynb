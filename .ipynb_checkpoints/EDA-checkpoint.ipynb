{
 "cells": [
  {
   "cell_type": "markdown",
   "id": "be9fa272",
   "metadata": {
    "heading_collapsed": true
   },
   "source": [
    "# Exploratory Data Analysis"
   ]
  },
  {
   "cell_type": "markdown",
   "id": "8c25b726",
   "metadata": {
    "hidden": true
   },
   "source": [
    "O objetivo dessa análise exploratória é tentar responder a algumas perguntas sobre o arquivo BI_MERCADO disponibilizado pelo Laboratório de Tecnologia Coco Bambu (CBLAB) para a vaga de estágio em BI (estagiário de dados). A fim de facilitar a leitura de todas as tabelas dentro do arquivo, eu separei cada tabela em um único arquivo separado das demais.<br>\n",
    "Algumas perguntas que tentarei responder aqui são: <br> \n",
    "- Qual loja vendeu mais e qual vendeu menos? \n",
    "- Todas as lojas venderam ao menos uma unidade de cada produto?\n",
    "- Qual o produto que vendeu mais? Qual vendeu menos?\n",
    "- Qual setor (categoria) vendeu mais? Qual setor (categoria) vendeu menos?\n",
    "- Existe alguma loja que não tenha vendido nada? \n",
    "\n"
   ]
  },
  {
   "cell_type": "markdown",
   "id": "3cfae99d",
   "metadata": {
    "heading_collapsed": true,
    "hidden": true
   },
   "source": [
    "## Importando as bibliotecas"
   ]
  },
  {
   "cell_type": "code",
   "execution_count": 1,
   "id": "58cf6331",
   "metadata": {
    "hidden": true
   },
   "outputs": [],
   "source": [
    "import pandas as pd\n",
    "import numpy as np"
   ]
  },
  {
   "cell_type": "markdown",
   "id": "75c8d125",
   "metadata": {
    "heading_collapsed": true,
    "hidden": true
   },
   "source": [
    "## lendo os arquivos "
   ]
  },
  {
   "cell_type": "code",
   "execution_count": 2,
   "id": "21bbb007",
   "metadata": {
    "hidden": true,
    "scrolled": false
   },
   "outputs": [
    {
     "data": {
      "text/html": [
       "<div>\n",
       "<style scoped>\n",
       "    .dataframe tbody tr th:only-of-type {\n",
       "        vertical-align: middle;\n",
       "    }\n",
       "\n",
       "    .dataframe tbody tr th {\n",
       "        vertical-align: top;\n",
       "    }\n",
       "\n",
       "    .dataframe thead th {\n",
       "        text-align: right;\n",
       "    }\n",
       "</style>\n",
       "<table border=\"1\" class=\"dataframe\">\n",
       "  <thead>\n",
       "    <tr style=\"text-align: right;\">\n",
       "      <th></th>\n",
       "      <th>DT_CAL</th>\n",
       "      <th>DIA_SEM</th>\n",
       "      <th>MES_TEX</th>\n",
       "      <th>MES_NUM</th>\n",
       "    </tr>\n",
       "  </thead>\n",
       "  <tbody>\n",
       "    <tr>\n",
       "      <th>461</th>\n",
       "      <td>2020-04-06</td>\n",
       "      <td>SEG</td>\n",
       "      <td>ABRIL</td>\n",
       "      <td>4</td>\n",
       "    </tr>\n",
       "    <tr>\n",
       "      <th>462</th>\n",
       "      <td>2020-04-07</td>\n",
       "      <td>TER</td>\n",
       "      <td>ABRIL</td>\n",
       "      <td>4</td>\n",
       "    </tr>\n",
       "    <tr>\n",
       "      <th>463</th>\n",
       "      <td>2020-04-08</td>\n",
       "      <td>QUA</td>\n",
       "      <td>ABRIL</td>\n",
       "      <td>4</td>\n",
       "    </tr>\n",
       "    <tr>\n",
       "      <th>464</th>\n",
       "      <td>2020-04-09</td>\n",
       "      <td>QUI</td>\n",
       "      <td>ABRIL</td>\n",
       "      <td>4</td>\n",
       "    </tr>\n",
       "    <tr>\n",
       "      <th>465</th>\n",
       "      <td>2020-04-10</td>\n",
       "      <td>SEX</td>\n",
       "      <td>ABRIL</td>\n",
       "      <td>4</td>\n",
       "    </tr>\n",
       "  </tbody>\n",
       "</table>\n",
       "</div>"
      ],
      "text/plain": [
       "        DT_CAL DIA_SEM MES_TEX  MES_NUM\n",
       "461 2020-04-06     SEG   ABRIL        4\n",
       "462 2020-04-07     TER   ABRIL        4\n",
       "463 2020-04-08     QUA   ABRIL        4\n",
       "464 2020-04-09     QUI   ABRIL        4\n",
       "465 2020-04-10     SEX   ABRIL        4"
      ]
     },
     "execution_count": 2,
     "metadata": {},
     "output_type": "execute_result"
    }
   ],
   "source": [
    "data = pd.read_excel('calendario.xlsx')\n",
    "data.tail()"
   ]
  },
  {
   "cell_type": "code",
   "execution_count": 3,
   "id": "c31196e0",
   "metadata": {
    "hidden": true
   },
   "outputs": [
    {
     "data": {
      "text/html": [
       "<div>\n",
       "<style scoped>\n",
       "    .dataframe tbody tr th:only-of-type {\n",
       "        vertical-align: middle;\n",
       "    }\n",
       "\n",
       "    .dataframe tbody tr th {\n",
       "        vertical-align: top;\n",
       "    }\n",
       "\n",
       "    .dataframe thead th {\n",
       "        text-align: right;\n",
       "    }\n",
       "</style>\n",
       "<table border=\"1\" class=\"dataframe\">\n",
       "  <thead>\n",
       "    <tr style=\"text-align: right;\">\n",
       "      <th></th>\n",
       "      <th>SK_LOC</th>\n",
       "      <th>ID_LOC</th>\n",
       "      <th>DESC_LOC</th>\n",
       "    </tr>\n",
       "  </thead>\n",
       "  <tbody>\n",
       "    <tr>\n",
       "      <th>0</th>\n",
       "      <td>1</td>\n",
       "      <td>258</td>\n",
       "      <td>AGUAS CLARAS</td>\n",
       "    </tr>\n",
       "    <tr>\n",
       "      <th>1</th>\n",
       "      <td>2</td>\n",
       "      <td>496</td>\n",
       "      <td>ASA SUL</td>\n",
       "    </tr>\n",
       "    <tr>\n",
       "      <th>2</th>\n",
       "      <td>3</td>\n",
       "      <td>478</td>\n",
       "      <td>ASA NORTE</td>\n",
       "    </tr>\n",
       "    <tr>\n",
       "      <th>3</th>\n",
       "      <td>4</td>\n",
       "      <td>631</td>\n",
       "      <td>SUDOESTE</td>\n",
       "    </tr>\n",
       "    <tr>\n",
       "      <th>4</th>\n",
       "      <td>5</td>\n",
       "      <td>732</td>\n",
       "      <td>GAMA</td>\n",
       "    </tr>\n",
       "  </tbody>\n",
       "</table>\n",
       "</div>"
      ],
      "text/plain": [
       "   SK_LOC  ID_LOC      DESC_LOC\n",
       "0       1     258  AGUAS CLARAS\n",
       "1       2     496       ASA SUL\n",
       "2       3     478     ASA NORTE\n",
       "3       4     631      SUDOESTE\n",
       "4       5     732          GAMA"
      ]
     },
     "execution_count": 3,
     "metadata": {},
     "output_type": "execute_result"
    }
   ],
   "source": [
    "local = pd.read_excel('local.xlsx')\n",
    "local.head()"
   ]
  },
  {
   "cell_type": "code",
   "execution_count": 4,
   "id": "602d7f97",
   "metadata": {
    "hidden": true
   },
   "outputs": [
    {
     "data": {
      "text/html": [
       "<div>\n",
       "<style scoped>\n",
       "    .dataframe tbody tr th:only-of-type {\n",
       "        vertical-align: middle;\n",
       "    }\n",
       "\n",
       "    .dataframe tbody tr th {\n",
       "        vertical-align: top;\n",
       "    }\n",
       "\n",
       "    .dataframe thead th {\n",
       "        text-align: right;\n",
       "    }\n",
       "</style>\n",
       "<table border=\"1\" class=\"dataframe\">\n",
       "  <thead>\n",
       "    <tr style=\"text-align: right;\">\n",
       "      <th></th>\n",
       "      <th>SK_LOJA</th>\n",
       "      <th>ID_LOJA</th>\n",
       "      <th>DESC_LOJA</th>\n",
       "    </tr>\n",
       "  </thead>\n",
       "  <tbody>\n",
       "    <tr>\n",
       "      <th>0</th>\n",
       "      <td>1</td>\n",
       "      <td>4589</td>\n",
       "      <td>AGUAS CLARAS SHOPING</td>\n",
       "    </tr>\n",
       "    <tr>\n",
       "      <th>1</th>\n",
       "      <td>2</td>\n",
       "      <td>5896</td>\n",
       "      <td>SUDOESTE 1</td>\n",
       "    </tr>\n",
       "    <tr>\n",
       "      <th>2</th>\n",
       "      <td>3</td>\n",
       "      <td>7596</td>\n",
       "      <td>304 SUL</td>\n",
       "    </tr>\n",
       "    <tr>\n",
       "      <th>3</th>\n",
       "      <td>4</td>\n",
       "      <td>1478</td>\n",
       "      <td>IGUATEMI SHOP</td>\n",
       "    </tr>\n",
       "    <tr>\n",
       "      <th>4</th>\n",
       "      <td>5</td>\n",
       "      <td>3691</td>\n",
       "      <td>AGUAS CLARAS RUA 5</td>\n",
       "    </tr>\n",
       "  </tbody>\n",
       "</table>\n",
       "</div>"
      ],
      "text/plain": [
       "   SK_LOJA  ID_LOJA             DESC_LOJA\n",
       "0        1     4589  AGUAS CLARAS SHOPING\n",
       "1        2     5896            SUDOESTE 1\n",
       "2        3     7596               304 SUL\n",
       "3        4     1478         IGUATEMI SHOP\n",
       "4        5     3691    AGUAS CLARAS RUA 5"
      ]
     },
     "execution_count": 4,
     "metadata": {},
     "output_type": "execute_result"
    }
   ],
   "source": [
    "loja = pd.read_excel('loja.xlsx')\n",
    "loja.head()"
   ]
  },
  {
   "cell_type": "code",
   "execution_count": 5,
   "id": "0cd03f8d",
   "metadata": {
    "hidden": true
   },
   "outputs": [
    {
     "data": {
      "text/html": [
       "<div>\n",
       "<style scoped>\n",
       "    .dataframe tbody tr th:only-of-type {\n",
       "        vertical-align: middle;\n",
       "    }\n",
       "\n",
       "    .dataframe tbody tr th {\n",
       "        vertical-align: top;\n",
       "    }\n",
       "\n",
       "    .dataframe thead th {\n",
       "        text-align: right;\n",
       "    }\n",
       "</style>\n",
       "<table border=\"1\" class=\"dataframe\">\n",
       "  <thead>\n",
       "    <tr style=\"text-align: right;\">\n",
       "      <th></th>\n",
       "      <th>SK_PROD</th>\n",
       "      <th>ID_PROD</th>\n",
       "      <th>DESC_PROD</th>\n",
       "    </tr>\n",
       "  </thead>\n",
       "  <tbody>\n",
       "    <tr>\n",
       "      <th>0</th>\n",
       "      <td>1</td>\n",
       "      <td>1597</td>\n",
       "      <td>Café</td>\n",
       "    </tr>\n",
       "    <tr>\n",
       "      <th>1</th>\n",
       "      <td>2</td>\n",
       "      <td>1606</td>\n",
       "      <td>Cerveja</td>\n",
       "    </tr>\n",
       "    <tr>\n",
       "      <th>2</th>\n",
       "      <td>3</td>\n",
       "      <td>1647</td>\n",
       "      <td>Refrigerante</td>\n",
       "    </tr>\n",
       "    <tr>\n",
       "      <th>3</th>\n",
       "      <td>4</td>\n",
       "      <td>1655</td>\n",
       "      <td>Suco</td>\n",
       "    </tr>\n",
       "    <tr>\n",
       "      <th>4</th>\n",
       "      <td>5</td>\n",
       "      <td>1656</td>\n",
       "      <td>Suco de frutas</td>\n",
       "    </tr>\n",
       "  </tbody>\n",
       "</table>\n",
       "</div>"
      ],
      "text/plain": [
       "   SK_PROD  ID_PROD       DESC_PROD\n",
       "0        1     1597            Café\n",
       "1        2     1606         Cerveja\n",
       "2        3     1647    Refrigerante\n",
       "3        4     1655            Suco\n",
       "4        5     1656  Suco de frutas"
      ]
     },
     "execution_count": 5,
     "metadata": {},
     "output_type": "execute_result"
    }
   ],
   "source": [
    "produto = pd.read_excel('produtos.xlsx')\n",
    "produto.head()"
   ]
  },
  {
   "cell_type": "code",
   "execution_count": 6,
   "id": "2969b38f",
   "metadata": {
    "hidden": true
   },
   "outputs": [
    {
     "data": {
      "text/html": [
       "<div>\n",
       "<style scoped>\n",
       "    .dataframe tbody tr th:only-of-type {\n",
       "        vertical-align: middle;\n",
       "    }\n",
       "\n",
       "    .dataframe tbody tr th {\n",
       "        vertical-align: top;\n",
       "    }\n",
       "\n",
       "    .dataframe thead th {\n",
       "        text-align: right;\n",
       "    }\n",
       "</style>\n",
       "<table border=\"1\" class=\"dataframe\">\n",
       "  <thead>\n",
       "    <tr style=\"text-align: right;\">\n",
       "      <th></th>\n",
       "      <th>SK_SET</th>\n",
       "      <th>ID_SET</th>\n",
       "      <th>DESC_SET</th>\n",
       "    </tr>\n",
       "  </thead>\n",
       "  <tbody>\n",
       "    <tr>\n",
       "      <th>0</th>\n",
       "      <td>1</td>\n",
       "      <td>456</td>\n",
       "      <td>BEDIDAS</td>\n",
       "    </tr>\n",
       "    <tr>\n",
       "      <th>1</th>\n",
       "      <td>2</td>\n",
       "      <td>697</td>\n",
       "      <td>LATICINIOS</td>\n",
       "    </tr>\n",
       "    <tr>\n",
       "      <th>2</th>\n",
       "      <td>3</td>\n",
       "      <td>36</td>\n",
       "      <td>ENLATADOS</td>\n",
       "    </tr>\n",
       "    <tr>\n",
       "      <th>3</th>\n",
       "      <td>4</td>\n",
       "      <td>257</td>\n",
       "      <td>DOCES E SOBREMESAS</td>\n",
       "    </tr>\n",
       "    <tr>\n",
       "      <th>4</th>\n",
       "      <td>5</td>\n",
       "      <td>367</td>\n",
       "      <td>CONCELADOS</td>\n",
       "    </tr>\n",
       "    <tr>\n",
       "      <th>5</th>\n",
       "      <td>6</td>\n",
       "      <td>496</td>\n",
       "      <td>HIGIENE PESSOAL</td>\n",
       "    </tr>\n",
       "    <tr>\n",
       "      <th>6</th>\n",
       "      <td>7</td>\n",
       "      <td>47</td>\n",
       "      <td>LIMPEZA</td>\n",
       "    </tr>\n",
       "    <tr>\n",
       "      <th>7</th>\n",
       "      <td>8</td>\n",
       "      <td>83</td>\n",
       "      <td>ALIMENTOS</td>\n",
       "    </tr>\n",
       "    <tr>\n",
       "      <th>8</th>\n",
       "      <td>9</td>\n",
       "      <td>29</td>\n",
       "      <td>FEIRA</td>\n",
       "    </tr>\n",
       "    <tr>\n",
       "      <th>9</th>\n",
       "      <td>10</td>\n",
       "      <td>451</td>\n",
       "      <td>ACOUGUE</td>\n",
       "    </tr>\n",
       "  </tbody>\n",
       "</table>\n",
       "</div>"
      ],
      "text/plain": [
       "   SK_SET  ID_SET            DESC_SET\n",
       "0       1     456             BEDIDAS\n",
       "1       2     697          LATICINIOS\n",
       "2       3      36           ENLATADOS\n",
       "3       4     257  DOCES E SOBREMESAS\n",
       "4       5     367          CONCELADOS\n",
       "5       6     496     HIGIENE PESSOAL\n",
       "6       7      47             LIMPEZA\n",
       "7       8      83           ALIMENTOS\n",
       "8       9      29               FEIRA\n",
       "9      10     451             ACOUGUE"
      ]
     },
     "execution_count": 6,
     "metadata": {},
     "output_type": "execute_result"
    }
   ],
   "source": [
    "setor = pd.read_excel('setor.xlsx')\n",
    "setor"
   ]
  },
  {
   "cell_type": "code",
   "execution_count": 7,
   "id": "2c6ccb54",
   "metadata": {
    "hidden": true
   },
   "outputs": [
    {
     "data": {
      "text/html": [
       "<div>\n",
       "<style scoped>\n",
       "    .dataframe tbody tr th:only-of-type {\n",
       "        vertical-align: middle;\n",
       "    }\n",
       "\n",
       "    .dataframe tbody tr th {\n",
       "        vertical-align: top;\n",
       "    }\n",
       "\n",
       "    .dataframe thead th {\n",
       "        text-align: right;\n",
       "    }\n",
       "</style>\n",
       "<table border=\"1\" class=\"dataframe\">\n",
       "  <thead>\n",
       "    <tr style=\"text-align: right;\">\n",
       "      <th></th>\n",
       "      <th>SK_LOJA</th>\n",
       "      <th>SK_LOC</th>\n",
       "      <th>SK_PROD</th>\n",
       "      <th>SK_SET</th>\n",
       "      <th>DT_CAL</th>\n",
       "      <th>ID_VENDA</th>\n",
       "      <th>VAL_VENDA</th>\n",
       "      <th>LUCRO_VENDA</th>\n",
       "      <th>QTD_VENDA</th>\n",
       "      <th>TOT_VENDA</th>\n",
       "    </tr>\n",
       "  </thead>\n",
       "  <tbody>\n",
       "    <tr>\n",
       "      <th>0</th>\n",
       "      <td>2</td>\n",
       "      <td>4</td>\n",
       "      <td>1</td>\n",
       "      <td>1</td>\n",
       "      <td>2019-01-10</td>\n",
       "      <td>148</td>\n",
       "      <td>56</td>\n",
       "      <td>0.01</td>\n",
       "      <td>3</td>\n",
       "      <td>168</td>\n",
       "    </tr>\n",
       "    <tr>\n",
       "      <th>1</th>\n",
       "      <td>2</td>\n",
       "      <td>4</td>\n",
       "      <td>15</td>\n",
       "      <td>3</td>\n",
       "      <td>2019-01-10</td>\n",
       "      <td>148</td>\n",
       "      <td>14</td>\n",
       "      <td>0.02</td>\n",
       "      <td>8</td>\n",
       "      <td>112</td>\n",
       "    </tr>\n",
       "    <tr>\n",
       "      <th>2</th>\n",
       "      <td>2</td>\n",
       "      <td>4</td>\n",
       "      <td>18</td>\n",
       "      <td>3</td>\n",
       "      <td>2019-01-10</td>\n",
       "      <td>148</td>\n",
       "      <td>40</td>\n",
       "      <td>0.10</td>\n",
       "      <td>5</td>\n",
       "      <td>200</td>\n",
       "    </tr>\n",
       "    <tr>\n",
       "      <th>3</th>\n",
       "      <td>2</td>\n",
       "      <td>4</td>\n",
       "      <td>56</td>\n",
       "      <td>8</td>\n",
       "      <td>2019-01-10</td>\n",
       "      <td>148</td>\n",
       "      <td>19</td>\n",
       "      <td>0.25</td>\n",
       "      <td>8</td>\n",
       "      <td>152</td>\n",
       "    </tr>\n",
       "    <tr>\n",
       "      <th>4</th>\n",
       "      <td>2</td>\n",
       "      <td>4</td>\n",
       "      <td>41</td>\n",
       "      <td>7</td>\n",
       "      <td>2019-01-10</td>\n",
       "      <td>148</td>\n",
       "      <td>90</td>\n",
       "      <td>0.08</td>\n",
       "      <td>2</td>\n",
       "      <td>180</td>\n",
       "    </tr>\n",
       "  </tbody>\n",
       "</table>\n",
       "</div>"
      ],
      "text/plain": [
       "   SK_LOJA  SK_LOC  SK_PROD  SK_SET     DT_CAL  ID_VENDA  VAL_VENDA  \\\n",
       "0        2       4        1       1 2019-01-10       148         56   \n",
       "1        2       4       15       3 2019-01-10       148         14   \n",
       "2        2       4       18       3 2019-01-10       148         40   \n",
       "3        2       4       56       8 2019-01-10       148         19   \n",
       "4        2       4       41       7 2019-01-10       148         90   \n",
       "\n",
       "   LUCRO_VENDA  QTD_VENDA  TOT_VENDA  \n",
       "0         0.01          3        168  \n",
       "1         0.02          8        112  \n",
       "2         0.10          5        200  \n",
       "3         0.25          8        152  \n",
       "4         0.08          2        180  "
      ]
     },
     "execution_count": 7,
     "metadata": {},
     "output_type": "execute_result"
    }
   ],
   "source": [
    "vendas = pd.read_excel('vendas.xlsx')\n",
    "vendas.head()"
   ]
  },
  {
   "cell_type": "markdown",
   "id": "70fb24e3",
   "metadata": {
    "heading_collapsed": true,
    "hidden": true
   },
   "source": [
    "## Explorando cada arquivo Individualmente"
   ]
  },
  {
   "cell_type": "markdown",
   "id": "c1aadb35",
   "metadata": {
    "heading_collapsed": true,
    "hidden": true
   },
   "source": [
    "### Arquivo Data"
   ]
  },
  {
   "cell_type": "code",
   "execution_count": 30,
   "id": "2fea7294",
   "metadata": {
    "hidden": true,
    "scrolled": true
   },
   "outputs": [
    {
     "data": {
      "text/plain": [
       "(466, 4)"
      ]
     },
     "execution_count": 30,
     "metadata": {},
     "output_type": "execute_result"
    }
   ],
   "source": [
    "data.shape"
   ]
  },
  {
   "cell_type": "code",
   "execution_count": 31,
   "id": "2e7cbfd5",
   "metadata": {
    "hidden": true
   },
   "outputs": [
    {
     "data": {
      "text/plain": [
       "DT_CAL     datetime64[ns]\n",
       "DIA_SEM            object\n",
       "MES_TEX            object\n",
       "MES_NUM             int64\n",
       "dtype: object"
      ]
     },
     "execution_count": 31,
     "metadata": {},
     "output_type": "execute_result"
    }
   ],
   "source": [
    "data.dtypes"
   ]
  },
  {
   "cell_type": "code",
   "execution_count": 32,
   "id": "a9123dcb",
   "metadata": {
    "hidden": true
   },
   "outputs": [
    {
     "data": {
      "text/plain": [
       "Index(['DT_CAL', 'DIA_SEM', 'MES_TEX', 'MES_NUM'], dtype='object')"
      ]
     },
     "execution_count": 32,
     "metadata": {},
     "output_type": "execute_result"
    }
   ],
   "source": [
    "data.columns"
   ]
  },
  {
   "cell_type": "code",
   "execution_count": 16,
   "id": "96c0ab3a",
   "metadata": {
    "hidden": true,
    "scrolled": false
   },
   "outputs": [
    {
     "name": "stdout",
     "output_type": "stream",
     "text": [
      "<class 'pandas.core.frame.DataFrame'>\n",
      "RangeIndex: 466 entries, 0 to 465\n",
      "Data columns (total 4 columns):\n",
      " #   Column    Non-Null Count  Dtype         \n",
      "---  ------    --------------  -----         \n",
      " 0   data      466 non-null    datetime64[ns]\n",
      " 1   dia       466 non-null    object        \n",
      " 2   mes_desc  466 non-null    object        \n",
      " 3   mes_num   466 non-null    int64         \n",
      "dtypes: datetime64[ns](1), int64(1), object(2)\n",
      "memory usage: 14.7+ KB\n"
     ]
    }
   ],
   "source": [
    "data.info()"
   ]
  },
  {
   "cell_type": "code",
   "execution_count": 17,
   "id": "8a27c000",
   "metadata": {
    "hidden": true
   },
   "outputs": [
    {
     "data": {
      "text/plain": [
       "data        0\n",
       "dia         0\n",
       "mes_desc    0\n",
       "mes_num     0\n",
       "dtype: int64"
      ]
     },
     "execution_count": 17,
     "metadata": {},
     "output_type": "execute_result"
    }
   ],
   "source": [
    "data.isnull().sum()"
   ]
  },
  {
   "cell_type": "code",
   "execution_count": 18,
   "id": "ad66c104",
   "metadata": {
    "hidden": true
   },
   "outputs": [
    {
     "data": {
      "text/html": [
       "<div>\n",
       "<style scoped>\n",
       "    .dataframe tbody tr th:only-of-type {\n",
       "        vertical-align: middle;\n",
       "    }\n",
       "\n",
       "    .dataframe tbody tr th {\n",
       "        vertical-align: top;\n",
       "    }\n",
       "\n",
       "    .dataframe thead th {\n",
       "        text-align: right;\n",
       "    }\n",
       "</style>\n",
       "<table border=\"1\" class=\"dataframe\">\n",
       "  <thead>\n",
       "    <tr style=\"text-align: right;\">\n",
       "      <th></th>\n",
       "      <th>mes_num</th>\n",
       "    </tr>\n",
       "  </thead>\n",
       "  <tbody>\n",
       "    <tr>\n",
       "      <th>count</th>\n",
       "      <td>466.000000</td>\n",
       "    </tr>\n",
       "    <tr>\n",
       "      <th>mean</th>\n",
       "      <td>5.585837</td>\n",
       "    </tr>\n",
       "    <tr>\n",
       "      <th>std</th>\n",
       "      <td>3.565385</td>\n",
       "    </tr>\n",
       "    <tr>\n",
       "      <th>min</th>\n",
       "      <td>1.000000</td>\n",
       "    </tr>\n",
       "    <tr>\n",
       "      <th>25%</th>\n",
       "      <td>2.000000</td>\n",
       "    </tr>\n",
       "    <tr>\n",
       "      <th>50%</th>\n",
       "      <td>5.000000</td>\n",
       "    </tr>\n",
       "    <tr>\n",
       "      <th>75%</th>\n",
       "      <td>9.000000</td>\n",
       "    </tr>\n",
       "    <tr>\n",
       "      <th>max</th>\n",
       "      <td>12.000000</td>\n",
       "    </tr>\n",
       "  </tbody>\n",
       "</table>\n",
       "</div>"
      ],
      "text/plain": [
       "          mes_num\n",
       "count  466.000000\n",
       "mean     5.585837\n",
       "std      3.565385\n",
       "min      1.000000\n",
       "25%      2.000000\n",
       "50%      5.000000\n",
       "75%      9.000000\n",
       "max     12.000000"
      ]
     },
     "execution_count": 18,
     "metadata": {},
     "output_type": "execute_result"
    }
   ],
   "source": [
    "data.describe()"
   ]
  },
  {
   "cell_type": "markdown",
   "id": "c18c3e9d",
   "metadata": {
    "hidden": true
   },
   "source": [
    "<b><i>O tipo de cada variável corresponde ao já esperado e não há valores faltantes.</i></b>"
   ]
  },
  {
   "cell_type": "markdown",
   "id": "f0ef244c",
   "metadata": {
    "heading_collapsed": true,
    "hidden": true
   },
   "source": [
    "### Arquivo Local"
   ]
  },
  {
   "cell_type": "code",
   "execution_count": 33,
   "id": "958688c9",
   "metadata": {
    "hidden": true
   },
   "outputs": [
    {
     "data": {
      "text/plain": [
       "(5, 3)"
      ]
     },
     "execution_count": 33,
     "metadata": {},
     "output_type": "execute_result"
    }
   ],
   "source": [
    "local.shape"
   ]
  },
  {
   "cell_type": "code",
   "execution_count": 34,
   "id": "02305f27",
   "metadata": {
    "hidden": true
   },
   "outputs": [
    {
     "data": {
      "text/plain": [
       "SK_LOC       int64\n",
       "ID_LOC       int64\n",
       "DESC_LOC    object\n",
       "dtype: object"
      ]
     },
     "execution_count": 34,
     "metadata": {},
     "output_type": "execute_result"
    }
   ],
   "source": [
    "local.dtypes"
   ]
  },
  {
   "cell_type": "code",
   "execution_count": 36,
   "id": "c443091c",
   "metadata": {
    "hidden": true
   },
   "outputs": [
    {
     "name": "stdout",
     "output_type": "stream",
     "text": [
      "<class 'pandas.core.frame.DataFrame'>\n",
      "RangeIndex: 5 entries, 0 to 4\n",
      "Data columns (total 3 columns):\n",
      " #   Column    Non-Null Count  Dtype \n",
      "---  ------    --------------  ----- \n",
      " 0   SK_LOC    5 non-null      int64 \n",
      " 1   ID_LOC    5 non-null      int64 \n",
      " 2   DESC_LOC  5 non-null      object\n",
      "dtypes: int64(2), object(1)\n",
      "memory usage: 248.0+ bytes\n"
     ]
    }
   ],
   "source": [
    "local.info()"
   ]
  },
  {
   "cell_type": "code",
   "execution_count": 37,
   "id": "be5e898e",
   "metadata": {
    "hidden": true
   },
   "outputs": [
    {
     "data": {
      "text/html": [
       "<div>\n",
       "<style scoped>\n",
       "    .dataframe tbody tr th:only-of-type {\n",
       "        vertical-align: middle;\n",
       "    }\n",
       "\n",
       "    .dataframe tbody tr th {\n",
       "        vertical-align: top;\n",
       "    }\n",
       "\n",
       "    .dataframe thead th {\n",
       "        text-align: right;\n",
       "    }\n",
       "</style>\n",
       "<table border=\"1\" class=\"dataframe\">\n",
       "  <thead>\n",
       "    <tr style=\"text-align: right;\">\n",
       "      <th></th>\n",
       "      <th>SK_LOC</th>\n",
       "      <th>ID_LOC</th>\n",
       "    </tr>\n",
       "  </thead>\n",
       "  <tbody>\n",
       "    <tr>\n",
       "      <th>count</th>\n",
       "      <td>5.000000</td>\n",
       "      <td>5.000000</td>\n",
       "    </tr>\n",
       "    <tr>\n",
       "      <th>mean</th>\n",
       "      <td>3.000000</td>\n",
       "      <td>519.000000</td>\n",
       "    </tr>\n",
       "    <tr>\n",
       "      <th>std</th>\n",
       "      <td>1.581139</td>\n",
       "      <td>179.055857</td>\n",
       "    </tr>\n",
       "    <tr>\n",
       "      <th>min</th>\n",
       "      <td>1.000000</td>\n",
       "      <td>258.000000</td>\n",
       "    </tr>\n",
       "    <tr>\n",
       "      <th>25%</th>\n",
       "      <td>2.000000</td>\n",
       "      <td>478.000000</td>\n",
       "    </tr>\n",
       "    <tr>\n",
       "      <th>50%</th>\n",
       "      <td>3.000000</td>\n",
       "      <td>496.000000</td>\n",
       "    </tr>\n",
       "    <tr>\n",
       "      <th>75%</th>\n",
       "      <td>4.000000</td>\n",
       "      <td>631.000000</td>\n",
       "    </tr>\n",
       "    <tr>\n",
       "      <th>max</th>\n",
       "      <td>5.000000</td>\n",
       "      <td>732.000000</td>\n",
       "    </tr>\n",
       "  </tbody>\n",
       "</table>\n",
       "</div>"
      ],
      "text/plain": [
       "         SK_LOC      ID_LOC\n",
       "count  5.000000    5.000000\n",
       "mean   3.000000  519.000000\n",
       "std    1.581139  179.055857\n",
       "min    1.000000  258.000000\n",
       "25%    2.000000  478.000000\n",
       "50%    3.000000  496.000000\n",
       "75%    4.000000  631.000000\n",
       "max    5.000000  732.000000"
      ]
     },
     "execution_count": 37,
     "metadata": {},
     "output_type": "execute_result"
    }
   ],
   "source": [
    "local.describe()"
   ]
  },
  {
   "cell_type": "code",
   "execution_count": 38,
   "id": "55248e34",
   "metadata": {
    "hidden": true
   },
   "outputs": [
    {
     "data": {
      "text/plain": [
       "SK_LOC      0\n",
       "ID_LOC      0\n",
       "DESC_LOC    0\n",
       "dtype: int64"
      ]
     },
     "execution_count": 38,
     "metadata": {},
     "output_type": "execute_result"
    }
   ],
   "source": [
    "local.isna().sum()"
   ]
  },
  {
   "cell_type": "code",
   "execution_count": 39,
   "id": "7b67a057",
   "metadata": {
    "hidden": true
   },
   "outputs": [
    {
     "data": {
      "text/plain": [
       "Index(['SK_LOC', 'ID_LOC', 'DESC_LOC'], dtype='object')"
      ]
     },
     "execution_count": 39,
     "metadata": {},
     "output_type": "execute_result"
    }
   ],
   "source": [
    "local.columns"
   ]
  },
  {
   "cell_type": "markdown",
   "id": "78fc9f5c",
   "metadata": {
    "hidden": true
   },
   "source": [
    "<b><i>O tipo de cada variável corresponde ao já esperado e não há valores faltantes.</i></b>"
   ]
  },
  {
   "cell_type": "markdown",
   "id": "c4e769eb",
   "metadata": {
    "heading_collapsed": true,
    "hidden": true
   },
   "source": [
    "### Arquivo Loja"
   ]
  },
  {
   "cell_type": "code",
   "execution_count": 67,
   "id": "1b71d7a0",
   "metadata": {
    "hidden": true
   },
   "outputs": [
    {
     "data": {
      "text/html": [
       "<div>\n",
       "<style scoped>\n",
       "    .dataframe tbody tr th:only-of-type {\n",
       "        vertical-align: middle;\n",
       "    }\n",
       "\n",
       "    .dataframe tbody tr th {\n",
       "        vertical-align: top;\n",
       "    }\n",
       "\n",
       "    .dataframe thead th {\n",
       "        text-align: right;\n",
       "    }\n",
       "</style>\n",
       "<table border=\"1\" class=\"dataframe\">\n",
       "  <thead>\n",
       "    <tr style=\"text-align: right;\">\n",
       "      <th></th>\n",
       "      <th>SK_LOJA</th>\n",
       "      <th>ID_LOJA</th>\n",
       "      <th>DESC_LOJA</th>\n",
       "    </tr>\n",
       "  </thead>\n",
       "  <tbody>\n",
       "    <tr>\n",
       "      <th>0</th>\n",
       "      <td>1</td>\n",
       "      <td>4589</td>\n",
       "      <td>AGUAS CLARAS SHOPING</td>\n",
       "    </tr>\n",
       "    <tr>\n",
       "      <th>1</th>\n",
       "      <td>2</td>\n",
       "      <td>5896</td>\n",
       "      <td>SUDOESTE 1</td>\n",
       "    </tr>\n",
       "    <tr>\n",
       "      <th>2</th>\n",
       "      <td>3</td>\n",
       "      <td>7596</td>\n",
       "      <td>304 SUL</td>\n",
       "    </tr>\n",
       "    <tr>\n",
       "      <th>3</th>\n",
       "      <td>4</td>\n",
       "      <td>1478</td>\n",
       "      <td>IGUATEMI SHOP</td>\n",
       "    </tr>\n",
       "    <tr>\n",
       "      <th>4</th>\n",
       "      <td>5</td>\n",
       "      <td>3691</td>\n",
       "      <td>AGUAS CLARAS RUA 5</td>\n",
       "    </tr>\n",
       "  </tbody>\n",
       "</table>\n",
       "</div>"
      ],
      "text/plain": [
       "   SK_LOJA  ID_LOJA             DESC_LOJA\n",
       "0        1     4589  AGUAS CLARAS SHOPING\n",
       "1        2     5896            SUDOESTE 1\n",
       "2        3     7596               304 SUL\n",
       "3        4     1478         IGUATEMI SHOP\n",
       "4        5     3691    AGUAS CLARAS RUA 5"
      ]
     },
     "execution_count": 67,
     "metadata": {},
     "output_type": "execute_result"
    }
   ],
   "source": [
    "loja.head()"
   ]
  },
  {
   "cell_type": "code",
   "execution_count": 45,
   "id": "91c10da4",
   "metadata": {
    "hidden": true,
    "scrolled": true
   },
   "outputs": [
    {
     "data": {
      "text/plain": [
       "Index(['SK_LOJA', 'ID_LOJA', 'DESC_LOJA'], dtype='object')"
      ]
     },
     "execution_count": 45,
     "metadata": {},
     "output_type": "execute_result"
    }
   ],
   "source": [
    "loja.columns"
   ]
  },
  {
   "cell_type": "code",
   "execution_count": 40,
   "id": "90996e0c",
   "metadata": {
    "hidden": true
   },
   "outputs": [
    {
     "data": {
      "text/plain": [
       "(10, 3)"
      ]
     },
     "execution_count": 40,
     "metadata": {},
     "output_type": "execute_result"
    }
   ],
   "source": [
    "loja.shape"
   ]
  },
  {
   "cell_type": "code",
   "execution_count": 41,
   "id": "b1b3c6f0",
   "metadata": {
    "hidden": true
   },
   "outputs": [
    {
     "data": {
      "text/plain": [
       "SK_LOJA       int64\n",
       "ID_LOJA       int64\n",
       "DESC_LOJA    object\n",
       "dtype: object"
      ]
     },
     "execution_count": 41,
     "metadata": {},
     "output_type": "execute_result"
    }
   ],
   "source": [
    "loja.dtypes"
   ]
  },
  {
   "cell_type": "code",
   "execution_count": 42,
   "id": "daf5f081",
   "metadata": {
    "hidden": true
   },
   "outputs": [
    {
     "name": "stdout",
     "output_type": "stream",
     "text": [
      "<class 'pandas.core.frame.DataFrame'>\n",
      "RangeIndex: 10 entries, 0 to 9\n",
      "Data columns (total 3 columns):\n",
      " #   Column     Non-Null Count  Dtype \n",
      "---  ------     --------------  ----- \n",
      " 0   SK_LOJA    10 non-null     int64 \n",
      " 1   ID_LOJA    10 non-null     int64 \n",
      " 2   DESC_LOJA  10 non-null     object\n",
      "dtypes: int64(2), object(1)\n",
      "memory usage: 368.0+ bytes\n"
     ]
    }
   ],
   "source": [
    "loja.info()"
   ]
  },
  {
   "cell_type": "code",
   "execution_count": 43,
   "id": "f5fa977c",
   "metadata": {
    "hidden": true
   },
   "outputs": [
    {
     "data": {
      "text/html": [
       "<div>\n",
       "<style scoped>\n",
       "    .dataframe tbody tr th:only-of-type {\n",
       "        vertical-align: middle;\n",
       "    }\n",
       "\n",
       "    .dataframe tbody tr th {\n",
       "        vertical-align: top;\n",
       "    }\n",
       "\n",
       "    .dataframe thead th {\n",
       "        text-align: right;\n",
       "    }\n",
       "</style>\n",
       "<table border=\"1\" class=\"dataframe\">\n",
       "  <thead>\n",
       "    <tr style=\"text-align: right;\">\n",
       "      <th></th>\n",
       "      <th>SK_LOJA</th>\n",
       "      <th>ID_LOJA</th>\n",
       "    </tr>\n",
       "  </thead>\n",
       "  <tbody>\n",
       "    <tr>\n",
       "      <th>count</th>\n",
       "      <td>10.00000</td>\n",
       "      <td>10.000000</td>\n",
       "    </tr>\n",
       "    <tr>\n",
       "      <th>mean</th>\n",
       "      <td>5.50000</td>\n",
       "      <td>4086.600000</td>\n",
       "    </tr>\n",
       "    <tr>\n",
       "      <th>std</th>\n",
       "      <td>3.02765</td>\n",
       "      <td>1844.696494</td>\n",
       "    </tr>\n",
       "    <tr>\n",
       "      <th>min</th>\n",
       "      <td>1.00000</td>\n",
       "      <td>1478.000000</td>\n",
       "    </tr>\n",
       "    <tr>\n",
       "      <th>25%</th>\n",
       "      <td>3.25000</td>\n",
       "      <td>2836.250000</td>\n",
       "    </tr>\n",
       "    <tr>\n",
       "      <th>50%</th>\n",
       "      <td>5.50000</td>\n",
       "      <td>4140.000000</td>\n",
       "    </tr>\n",
       "    <tr>\n",
       "      <th>75%</th>\n",
       "      <td>7.75000</td>\n",
       "      <td>4763.500000</td>\n",
       "    </tr>\n",
       "    <tr>\n",
       "      <th>max</th>\n",
       "      <td>10.00000</td>\n",
       "      <td>7596.000000</td>\n",
       "    </tr>\n",
       "  </tbody>\n",
       "</table>\n",
       "</div>"
      ],
      "text/plain": [
       "        SK_LOJA      ID_LOJA\n",
       "count  10.00000    10.000000\n",
       "mean    5.50000  4086.600000\n",
       "std     3.02765  1844.696494\n",
       "min     1.00000  1478.000000\n",
       "25%     3.25000  2836.250000\n",
       "50%     5.50000  4140.000000\n",
       "75%     7.75000  4763.500000\n",
       "max    10.00000  7596.000000"
      ]
     },
     "execution_count": 43,
     "metadata": {},
     "output_type": "execute_result"
    }
   ],
   "source": [
    "loja.describe()"
   ]
  },
  {
   "cell_type": "code",
   "execution_count": 44,
   "id": "9b2df798",
   "metadata": {
    "hidden": true,
    "scrolled": true
   },
   "outputs": [
    {
     "data": {
      "text/plain": [
       "SK_LOJA      0\n",
       "ID_LOJA      0\n",
       "DESC_LOJA    0\n",
       "dtype: int64"
      ]
     },
     "execution_count": 44,
     "metadata": {},
     "output_type": "execute_result"
    }
   ],
   "source": [
    "loja.isnull().sum()"
   ]
  },
  {
   "cell_type": "markdown",
   "id": "9ec9e96b",
   "metadata": {
    "hidden": true
   },
   "source": [
    "<b><i>O tipo de cada variável corresponde ao já esperado e não há valores faltantes.</i></b>"
   ]
  },
  {
   "cell_type": "markdown",
   "id": "86368b6d",
   "metadata": {
    "heading_collapsed": true,
    "hidden": true
   },
   "source": [
    "### Arquivo Produtos"
   ]
  },
  {
   "cell_type": "code",
   "execution_count": 46,
   "id": "aa6fbfb9",
   "metadata": {
    "hidden": true
   },
   "outputs": [
    {
     "data": {
      "text/plain": [
       "Index(['SK_PROD', 'ID_PROD', 'DESC_PROD'], dtype='object')"
      ]
     },
     "execution_count": 46,
     "metadata": {},
     "output_type": "execute_result"
    }
   ],
   "source": [
    "produto.columns"
   ]
  },
  {
   "cell_type": "code",
   "execution_count": 47,
   "id": "054a0ab6",
   "metadata": {
    "hidden": true
   },
   "outputs": [
    {
     "data": {
      "text/plain": [
       "(80, 3)"
      ]
     },
     "execution_count": 47,
     "metadata": {},
     "output_type": "execute_result"
    }
   ],
   "source": [
    "produto.shape"
   ]
  },
  {
   "cell_type": "code",
   "execution_count": 48,
   "id": "f91e782a",
   "metadata": {
    "hidden": true
   },
   "outputs": [
    {
     "name": "stdout",
     "output_type": "stream",
     "text": [
      "<class 'pandas.core.frame.DataFrame'>\n",
      "RangeIndex: 80 entries, 0 to 79\n",
      "Data columns (total 3 columns):\n",
      " #   Column     Non-Null Count  Dtype \n",
      "---  ------     --------------  ----- \n",
      " 0   SK_PROD    80 non-null     int64 \n",
      " 1   ID_PROD    80 non-null     int64 \n",
      " 2   DESC_PROD  80 non-null     object\n",
      "dtypes: int64(2), object(1)\n",
      "memory usage: 2.0+ KB\n"
     ]
    }
   ],
   "source": [
    "produto.info()"
   ]
  },
  {
   "cell_type": "code",
   "execution_count": 49,
   "id": "2adad72e",
   "metadata": {
    "hidden": true
   },
   "outputs": [
    {
     "data": {
      "text/plain": [
       "SK_PROD      0\n",
       "ID_PROD      0\n",
       "DESC_PROD    0\n",
       "dtype: int64"
      ]
     },
     "execution_count": 49,
     "metadata": {},
     "output_type": "execute_result"
    }
   ],
   "source": [
    "produto.isna().sum()"
   ]
  },
  {
   "cell_type": "code",
   "execution_count": 50,
   "id": "a9d5fe6c",
   "metadata": {
    "hidden": true
   },
   "outputs": [
    {
     "data": {
      "text/plain": [
       "SK_PROD       int64\n",
       "ID_PROD       int64\n",
       "DESC_PROD    object\n",
       "dtype: object"
      ]
     },
     "execution_count": 50,
     "metadata": {},
     "output_type": "execute_result"
    }
   ],
   "source": [
    "produto.dtypes"
   ]
  },
  {
   "cell_type": "code",
   "execution_count": 51,
   "id": "1d914f97",
   "metadata": {
    "hidden": true
   },
   "outputs": [
    {
     "data": {
      "text/html": [
       "<div>\n",
       "<style scoped>\n",
       "    .dataframe tbody tr th:only-of-type {\n",
       "        vertical-align: middle;\n",
       "    }\n",
       "\n",
       "    .dataframe tbody tr th {\n",
       "        vertical-align: top;\n",
       "    }\n",
       "\n",
       "    .dataframe thead th {\n",
       "        text-align: right;\n",
       "    }\n",
       "</style>\n",
       "<table border=\"1\" class=\"dataframe\">\n",
       "  <thead>\n",
       "    <tr style=\"text-align: right;\">\n",
       "      <th></th>\n",
       "      <th>SK_PROD</th>\n",
       "      <th>ID_PROD</th>\n",
       "    </tr>\n",
       "  </thead>\n",
       "  <tbody>\n",
       "    <tr>\n",
       "      <th>count</th>\n",
       "      <td>80.0000</td>\n",
       "      <td>80.0000</td>\n",
       "    </tr>\n",
       "    <tr>\n",
       "      <th>mean</th>\n",
       "      <td>40.5000</td>\n",
       "      <td>1620.5000</td>\n",
       "    </tr>\n",
       "    <tr>\n",
       "      <th>std</th>\n",
       "      <td>23.2379</td>\n",
       "      <td>23.2379</td>\n",
       "    </tr>\n",
       "    <tr>\n",
       "      <th>min</th>\n",
       "      <td>1.0000</td>\n",
       "      <td>1581.0000</td>\n",
       "    </tr>\n",
       "    <tr>\n",
       "      <th>25%</th>\n",
       "      <td>20.7500</td>\n",
       "      <td>1600.7500</td>\n",
       "    </tr>\n",
       "    <tr>\n",
       "      <th>50%</th>\n",
       "      <td>40.5000</td>\n",
       "      <td>1620.5000</td>\n",
       "    </tr>\n",
       "    <tr>\n",
       "      <th>75%</th>\n",
       "      <td>60.2500</td>\n",
       "      <td>1640.2500</td>\n",
       "    </tr>\n",
       "    <tr>\n",
       "      <th>max</th>\n",
       "      <td>80.0000</td>\n",
       "      <td>1660.0000</td>\n",
       "    </tr>\n",
       "  </tbody>\n",
       "</table>\n",
       "</div>"
      ],
      "text/plain": [
       "       SK_PROD    ID_PROD\n",
       "count  80.0000    80.0000\n",
       "mean   40.5000  1620.5000\n",
       "std    23.2379    23.2379\n",
       "min     1.0000  1581.0000\n",
       "25%    20.7500  1600.7500\n",
       "50%    40.5000  1620.5000\n",
       "75%    60.2500  1640.2500\n",
       "max    80.0000  1660.0000"
      ]
     },
     "execution_count": 51,
     "metadata": {},
     "output_type": "execute_result"
    }
   ],
   "source": [
    "produto.describe()"
   ]
  },
  {
   "cell_type": "markdown",
   "id": "f97f928f",
   "metadata": {
    "hidden": true
   },
   "source": [
    "<b><i>O tipo de cada variável corresponde ao já esperado e não há valores faltantes.</i></b>"
   ]
  },
  {
   "cell_type": "markdown",
   "id": "6b898e95",
   "metadata": {
    "heading_collapsed": true,
    "hidden": true
   },
   "source": [
    "### Arquivo Setor"
   ]
  },
  {
   "cell_type": "code",
   "execution_count": 65,
   "id": "e3c387a0",
   "metadata": {
    "hidden": true
   },
   "outputs": [
    {
     "data": {
      "text/plain": [
       "Index(['SK_SET', 'ID_SET', 'DESC_SET'], dtype='object')"
      ]
     },
     "execution_count": 65,
     "metadata": {},
     "output_type": "execute_result"
    }
   ],
   "source": [
    "setor.columns"
   ]
  },
  {
   "cell_type": "code",
   "execution_count": 52,
   "id": "b8549e6c",
   "metadata": {
    "hidden": true,
    "scrolled": true
   },
   "outputs": [
    {
     "data": {
      "text/plain": [
       "(10, 3)"
      ]
     },
     "execution_count": 52,
     "metadata": {},
     "output_type": "execute_result"
    }
   ],
   "source": [
    "setor.shape"
   ]
  },
  {
   "cell_type": "code",
   "execution_count": 53,
   "id": "971f109f",
   "metadata": {
    "hidden": true
   },
   "outputs": [
    {
     "data": {
      "text/plain": [
       "SK_SET       int64\n",
       "ID_SET       int64\n",
       "DESC_SET    object\n",
       "dtype: object"
      ]
     },
     "execution_count": 53,
     "metadata": {},
     "output_type": "execute_result"
    }
   ],
   "source": [
    "setor.dtypes"
   ]
  },
  {
   "cell_type": "code",
   "execution_count": 54,
   "id": "377fd64e",
   "metadata": {
    "hidden": true
   },
   "outputs": [
    {
     "name": "stdout",
     "output_type": "stream",
     "text": [
      "<class 'pandas.core.frame.DataFrame'>\n",
      "RangeIndex: 10 entries, 0 to 9\n",
      "Data columns (total 3 columns):\n",
      " #   Column    Non-Null Count  Dtype \n",
      "---  ------    --------------  ----- \n",
      " 0   SK_SET    10 non-null     int64 \n",
      " 1   ID_SET    10 non-null     int64 \n",
      " 2   DESC_SET  10 non-null     object\n",
      "dtypes: int64(2), object(1)\n",
      "memory usage: 368.0+ bytes\n"
     ]
    }
   ],
   "source": [
    "setor.info()"
   ]
  },
  {
   "cell_type": "code",
   "execution_count": 55,
   "id": "e0527ab5",
   "metadata": {
    "hidden": true
   },
   "outputs": [
    {
     "data": {
      "text/plain": [
       "SK_SET      0\n",
       "ID_SET      0\n",
       "DESC_SET    0\n",
       "dtype: int64"
      ]
     },
     "execution_count": 55,
     "metadata": {},
     "output_type": "execute_result"
    }
   ],
   "source": [
    "setor.isnull().sum()"
   ]
  },
  {
   "cell_type": "code",
   "execution_count": 56,
   "id": "17b9be36",
   "metadata": {
    "hidden": true
   },
   "outputs": [
    {
     "data": {
      "text/html": [
       "<div>\n",
       "<style scoped>\n",
       "    .dataframe tbody tr th:only-of-type {\n",
       "        vertical-align: middle;\n",
       "    }\n",
       "\n",
       "    .dataframe tbody tr th {\n",
       "        vertical-align: top;\n",
       "    }\n",
       "\n",
       "    .dataframe thead th {\n",
       "        text-align: right;\n",
       "    }\n",
       "</style>\n",
       "<table border=\"1\" class=\"dataframe\">\n",
       "  <thead>\n",
       "    <tr style=\"text-align: right;\">\n",
       "      <th></th>\n",
       "      <th>SK_SET</th>\n",
       "      <th>ID_SET</th>\n",
       "    </tr>\n",
       "  </thead>\n",
       "  <tbody>\n",
       "    <tr>\n",
       "      <th>count</th>\n",
       "      <td>10.00000</td>\n",
       "      <td>10.00000</td>\n",
       "    </tr>\n",
       "    <tr>\n",
       "      <th>mean</th>\n",
       "      <td>5.50000</td>\n",
       "      <td>291.90000</td>\n",
       "    </tr>\n",
       "    <tr>\n",
       "      <th>std</th>\n",
       "      <td>3.02765</td>\n",
       "      <td>236.42685</td>\n",
       "    </tr>\n",
       "    <tr>\n",
       "      <th>min</th>\n",
       "      <td>1.00000</td>\n",
       "      <td>29.00000</td>\n",
       "    </tr>\n",
       "    <tr>\n",
       "      <th>25%</th>\n",
       "      <td>3.25000</td>\n",
       "      <td>56.00000</td>\n",
       "    </tr>\n",
       "    <tr>\n",
       "      <th>50%</th>\n",
       "      <td>5.50000</td>\n",
       "      <td>312.00000</td>\n",
       "    </tr>\n",
       "    <tr>\n",
       "      <th>75%</th>\n",
       "      <td>7.75000</td>\n",
       "      <td>454.75000</td>\n",
       "    </tr>\n",
       "    <tr>\n",
       "      <th>max</th>\n",
       "      <td>10.00000</td>\n",
       "      <td>697.00000</td>\n",
       "    </tr>\n",
       "  </tbody>\n",
       "</table>\n",
       "</div>"
      ],
      "text/plain": [
       "         SK_SET     ID_SET\n",
       "count  10.00000   10.00000\n",
       "mean    5.50000  291.90000\n",
       "std     3.02765  236.42685\n",
       "min     1.00000   29.00000\n",
       "25%     3.25000   56.00000\n",
       "50%     5.50000  312.00000\n",
       "75%     7.75000  454.75000\n",
       "max    10.00000  697.00000"
      ]
     },
     "execution_count": 56,
     "metadata": {},
     "output_type": "execute_result"
    }
   ],
   "source": [
    "setor.describe()"
   ]
  },
  {
   "cell_type": "markdown",
   "id": "d877c82b",
   "metadata": {
    "hidden": true
   },
   "source": [
    "<b><i>O tipo de cada variável corresponde ao já esperado e não há valores faltantes.</i></b>"
   ]
  },
  {
   "cell_type": "markdown",
   "id": "b0460e72",
   "metadata": {
    "heading_collapsed": true,
    "hidden": true
   },
   "source": [
    "### Arquivo Vendas"
   ]
  },
  {
   "cell_type": "code",
   "execution_count": 57,
   "id": "58445fcc",
   "metadata": {
    "hidden": true
   },
   "outputs": [
    {
     "data": {
      "text/plain": [
       "(656, 10)"
      ]
     },
     "execution_count": 57,
     "metadata": {},
     "output_type": "execute_result"
    }
   ],
   "source": [
    "vendas.shape"
   ]
  },
  {
   "cell_type": "code",
   "execution_count": 60,
   "id": "01c38de7",
   "metadata": {
    "hidden": true
   },
   "outputs": [
    {
     "data": {
      "text/plain": [
       "SK_LOJA                 int64\n",
       "SK_LOC                  int64\n",
       "SK_PROD                 int64\n",
       "SK_SET                  int64\n",
       "DT_CAL         datetime64[ns]\n",
       "ID_VENDA                int64\n",
       "VAL_VENDA               int64\n",
       "LUCRO_VENDA           float64\n",
       "QTD_VENDA               int64\n",
       "TOT_VENDA               int64\n",
       "dtype: object"
      ]
     },
     "execution_count": 60,
     "metadata": {},
     "output_type": "execute_result"
    }
   ],
   "source": [
    "vendas.dtypes"
   ]
  },
  {
   "cell_type": "code",
   "execution_count": 61,
   "id": "91df4483",
   "metadata": {
    "hidden": true
   },
   "outputs": [
    {
     "data": {
      "text/plain": [
       "Index(['SK_LOJA', 'SK_LOC', 'SK_PROD', 'SK_SET', 'DT_CAL', 'ID_VENDA',\n",
       "       'VAL_VENDA', 'LUCRO_VENDA', 'QTD_VENDA', 'TOT_VENDA'],\n",
       "      dtype='object')"
      ]
     },
     "execution_count": 61,
     "metadata": {},
     "output_type": "execute_result"
    }
   ],
   "source": [
    "vendas.columns"
   ]
  },
  {
   "cell_type": "code",
   "execution_count": 62,
   "id": "f3b455b4",
   "metadata": {
    "hidden": true
   },
   "outputs": [
    {
     "name": "stdout",
     "output_type": "stream",
     "text": [
      "<class 'pandas.core.frame.DataFrame'>\n",
      "RangeIndex: 656 entries, 0 to 655\n",
      "Data columns (total 10 columns):\n",
      " #   Column       Non-Null Count  Dtype         \n",
      "---  ------       --------------  -----         \n",
      " 0   SK_LOJA      656 non-null    int64         \n",
      " 1   SK_LOC       656 non-null    int64         \n",
      " 2   SK_PROD      656 non-null    int64         \n",
      " 3   SK_SET       656 non-null    int64         \n",
      " 4   DT_CAL       656 non-null    datetime64[ns]\n",
      " 5   ID_VENDA     656 non-null    int64         \n",
      " 6   VAL_VENDA    656 non-null    int64         \n",
      " 7   LUCRO_VENDA  656 non-null    float64       \n",
      " 8   QTD_VENDA    656 non-null    int64         \n",
      " 9   TOT_VENDA    656 non-null    int64         \n",
      "dtypes: datetime64[ns](1), float64(1), int64(8)\n",
      "memory usage: 51.4 KB\n"
     ]
    }
   ],
   "source": [
    "vendas.info()"
   ]
  },
  {
   "cell_type": "code",
   "execution_count": 63,
   "id": "9056b110",
   "metadata": {
    "hidden": true
   },
   "outputs": [
    {
     "data": {
      "text/html": [
       "<div>\n",
       "<style scoped>\n",
       "    .dataframe tbody tr th:only-of-type {\n",
       "        vertical-align: middle;\n",
       "    }\n",
       "\n",
       "    .dataframe tbody tr th {\n",
       "        vertical-align: top;\n",
       "    }\n",
       "\n",
       "    .dataframe thead th {\n",
       "        text-align: right;\n",
       "    }\n",
       "</style>\n",
       "<table border=\"1\" class=\"dataframe\">\n",
       "  <thead>\n",
       "    <tr style=\"text-align: right;\">\n",
       "      <th></th>\n",
       "      <th>SK_LOJA</th>\n",
       "      <th>SK_LOC</th>\n",
       "      <th>SK_PROD</th>\n",
       "      <th>SK_SET</th>\n",
       "      <th>ID_VENDA</th>\n",
       "      <th>VAL_VENDA</th>\n",
       "      <th>LUCRO_VENDA</th>\n",
       "      <th>QTD_VENDA</th>\n",
       "      <th>TOT_VENDA</th>\n",
       "    </tr>\n",
       "  </thead>\n",
       "  <tbody>\n",
       "    <tr>\n",
       "      <th>count</th>\n",
       "      <td>656.000000</td>\n",
       "      <td>656.000000</td>\n",
       "      <td>656.000000</td>\n",
       "      <td>656.000000</td>\n",
       "      <td>656.000000</td>\n",
       "      <td>656.000000</td>\n",
       "      <td>656.000000</td>\n",
       "      <td>656.000000</td>\n",
       "      <td>656.000000</td>\n",
       "    </tr>\n",
       "    <tr>\n",
       "      <th>mean</th>\n",
       "      <td>5.178354</td>\n",
       "      <td>2.405488</td>\n",
       "      <td>40.568598</td>\n",
       "      <td>5.853659</td>\n",
       "      <td>505.243902</td>\n",
       "      <td>51.875000</td>\n",
       "      <td>0.164390</td>\n",
       "      <td>5.460366</td>\n",
       "      <td>281.974085</td>\n",
       "    </tr>\n",
       "    <tr>\n",
       "      <th>std</th>\n",
       "      <td>2.798073</td>\n",
       "      <td>1.002394</td>\n",
       "      <td>23.346998</td>\n",
       "      <td>2.824092</td>\n",
       "      <td>229.361014</td>\n",
       "      <td>28.538704</td>\n",
       "      <td>0.102055</td>\n",
       "      <td>2.839463</td>\n",
       "      <td>231.326934</td>\n",
       "    </tr>\n",
       "    <tr>\n",
       "      <th>min</th>\n",
       "      <td>1.000000</td>\n",
       "      <td>1.000000</td>\n",
       "      <td>1.000000</td>\n",
       "      <td>1.000000</td>\n",
       "      <td>148.000000</td>\n",
       "      <td>1.000000</td>\n",
       "      <td>0.010000</td>\n",
       "      <td>1.000000</td>\n",
       "      <td>1.000000</td>\n",
       "    </tr>\n",
       "    <tr>\n",
       "      <th>25%</th>\n",
       "      <td>3.000000</td>\n",
       "      <td>2.000000</td>\n",
       "      <td>20.000000</td>\n",
       "      <td>3.000000</td>\n",
       "      <td>327.000000</td>\n",
       "      <td>27.000000</td>\n",
       "      <td>0.080000</td>\n",
       "      <td>3.000000</td>\n",
       "      <td>100.000000</td>\n",
       "    </tr>\n",
       "    <tr>\n",
       "      <th>50%</th>\n",
       "      <td>5.000000</td>\n",
       "      <td>2.000000</td>\n",
       "      <td>40.000000</td>\n",
       "      <td>7.000000</td>\n",
       "      <td>506.000000</td>\n",
       "      <td>53.000000</td>\n",
       "      <td>0.203000</td>\n",
       "      <td>6.000000</td>\n",
       "      <td>217.000000</td>\n",
       "    </tr>\n",
       "    <tr>\n",
       "      <th>75%</th>\n",
       "      <td>8.000000</td>\n",
       "      <td>3.000000</td>\n",
       "      <td>61.000000</td>\n",
       "      <td>8.000000</td>\n",
       "      <td>685.000000</td>\n",
       "      <td>77.000000</td>\n",
       "      <td>0.240000</td>\n",
       "      <td>8.000000</td>\n",
       "      <td>415.500000</td>\n",
       "    </tr>\n",
       "    <tr>\n",
       "      <th>max</th>\n",
       "      <td>10.000000</td>\n",
       "      <td>4.000000</td>\n",
       "      <td>80.000000</td>\n",
       "      <td>10.000000</td>\n",
       "      <td>864.000000</td>\n",
       "      <td>100.000000</td>\n",
       "      <td>0.351000</td>\n",
       "      <td>10.000000</td>\n",
       "      <td>990.000000</td>\n",
       "    </tr>\n",
       "  </tbody>\n",
       "</table>\n",
       "</div>"
      ],
      "text/plain": [
       "          SK_LOJA      SK_LOC     SK_PROD      SK_SET    ID_VENDA   VAL_VENDA  \\\n",
       "count  656.000000  656.000000  656.000000  656.000000  656.000000  656.000000   \n",
       "mean     5.178354    2.405488   40.568598    5.853659  505.243902   51.875000   \n",
       "std      2.798073    1.002394   23.346998    2.824092  229.361014   28.538704   \n",
       "min      1.000000    1.000000    1.000000    1.000000  148.000000    1.000000   \n",
       "25%      3.000000    2.000000   20.000000    3.000000  327.000000   27.000000   \n",
       "50%      5.000000    2.000000   40.000000    7.000000  506.000000   53.000000   \n",
       "75%      8.000000    3.000000   61.000000    8.000000  685.000000   77.000000   \n",
       "max     10.000000    4.000000   80.000000   10.000000  864.000000  100.000000   \n",
       "\n",
       "       LUCRO_VENDA   QTD_VENDA   TOT_VENDA  \n",
       "count   656.000000  656.000000  656.000000  \n",
       "mean      0.164390    5.460366  281.974085  \n",
       "std       0.102055    2.839463  231.326934  \n",
       "min       0.010000    1.000000    1.000000  \n",
       "25%       0.080000    3.000000  100.000000  \n",
       "50%       0.203000    6.000000  217.000000  \n",
       "75%       0.240000    8.000000  415.500000  \n",
       "max       0.351000   10.000000  990.000000  "
      ]
     },
     "execution_count": 63,
     "metadata": {},
     "output_type": "execute_result"
    }
   ],
   "source": [
    "vendas.describe()"
   ]
  },
  {
   "cell_type": "code",
   "execution_count": 64,
   "id": "99435f75",
   "metadata": {
    "hidden": true
   },
   "outputs": [
    {
     "data": {
      "text/plain": [
       "SK_LOJA        0\n",
       "SK_LOC         0\n",
       "SK_PROD        0\n",
       "SK_SET         0\n",
       "DT_CAL         0\n",
       "ID_VENDA       0\n",
       "VAL_VENDA      0\n",
       "LUCRO_VENDA    0\n",
       "QTD_VENDA      0\n",
       "TOT_VENDA      0\n",
       "dtype: int64"
      ]
     },
     "execution_count": 64,
     "metadata": {},
     "output_type": "execute_result"
    }
   ],
   "source": [
    "vendas.isna().sum()"
   ]
  },
  {
   "cell_type": "markdown",
   "id": "04a6a243",
   "metadata": {
    "hidden": true
   },
   "source": [
    "<b><i>O tipo de cada variável corresponde ao já esperado e não há valores faltantes.</i></b>"
   ]
  },
  {
   "cell_type": "markdown",
   "id": "bb5c821a",
   "metadata": {
    "heading_collapsed": true,
    "hidden": true
   },
   "source": [
    "## Começando a responder"
   ]
  },
  {
   "cell_type": "markdown",
   "id": "6d3ead9a",
   "metadata": {
    "heading_collapsed": true,
    "hidden": true
   },
   "source": [
    "### Pergunta 1"
   ]
  },
  {
   "cell_type": "code",
   "execution_count": 79,
   "id": "ca7d1632",
   "metadata": {
    "hidden": true,
    "scrolled": true
   },
   "outputs": [
    {
     "data": {
      "text/html": [
       "<div>\n",
       "<style scoped>\n",
       "    .dataframe tbody tr th:only-of-type {\n",
       "        vertical-align: middle;\n",
       "    }\n",
       "\n",
       "    .dataframe tbody tr th {\n",
       "        vertical-align: top;\n",
       "    }\n",
       "\n",
       "    .dataframe thead th {\n",
       "        text-align: right;\n",
       "    }\n",
       "</style>\n",
       "<table border=\"1\" class=\"dataframe\">\n",
       "  <thead>\n",
       "    <tr style=\"text-align: right;\">\n",
       "      <th></th>\n",
       "      <th>SK_LOJA</th>\n",
       "      <th>ID_LOJA</th>\n",
       "      <th>DESC_LOJA</th>\n",
       "    </tr>\n",
       "  </thead>\n",
       "  <tbody>\n",
       "    <tr>\n",
       "      <th>0</th>\n",
       "      <td>1</td>\n",
       "      <td>4589</td>\n",
       "      <td>AGUAS CLARAS SHOPING</td>\n",
       "    </tr>\n",
       "    <tr>\n",
       "      <th>1</th>\n",
       "      <td>2</td>\n",
       "      <td>5896</td>\n",
       "      <td>SUDOESTE 1</td>\n",
       "    </tr>\n",
       "    <tr>\n",
       "      <th>2</th>\n",
       "      <td>3</td>\n",
       "      <td>7596</td>\n",
       "      <td>304 SUL</td>\n",
       "    </tr>\n",
       "    <tr>\n",
       "      <th>3</th>\n",
       "      <td>4</td>\n",
       "      <td>1478</td>\n",
       "      <td>IGUATEMI SHOP</td>\n",
       "    </tr>\n",
       "    <tr>\n",
       "      <th>4</th>\n",
       "      <td>5</td>\n",
       "      <td>3691</td>\n",
       "      <td>AGUAS CLARAS RUA 5</td>\n",
       "    </tr>\n",
       "    <tr>\n",
       "      <th>5</th>\n",
       "      <td>6</td>\n",
       "      <td>2589</td>\n",
       "      <td>LAGO SUL</td>\n",
       "    </tr>\n",
       "    <tr>\n",
       "      <th>6</th>\n",
       "      <td>7</td>\n",
       "      <td>4789</td>\n",
       "      <td>SUDOESTE 2</td>\n",
       "    </tr>\n",
       "    <tr>\n",
       "      <th>7</th>\n",
       "      <td>8</td>\n",
       "      <td>3578</td>\n",
       "      <td>310 SUL</td>\n",
       "    </tr>\n",
       "    <tr>\n",
       "      <th>8</th>\n",
       "      <td>9</td>\n",
       "      <td>4687</td>\n",
       "      <td>108 SUL</td>\n",
       "    </tr>\n",
       "    <tr>\n",
       "      <th>9</th>\n",
       "      <td>10</td>\n",
       "      <td>1973</td>\n",
       "      <td>BSB SHOPPING</td>\n",
       "    </tr>\n",
       "  </tbody>\n",
       "</table>\n",
       "</div>"
      ],
      "text/plain": [
       "   SK_LOJA  ID_LOJA             DESC_LOJA\n",
       "0        1     4589  AGUAS CLARAS SHOPING\n",
       "1        2     5896            SUDOESTE 1\n",
       "2        3     7596               304 SUL\n",
       "3        4     1478         IGUATEMI SHOP\n",
       "4        5     3691    AGUAS CLARAS RUA 5\n",
       "5        6     2589              LAGO SUL\n",
       "6        7     4789            SUDOESTE 2\n",
       "7        8     3578               310 SUL\n",
       "8        9     4687               108 SUL\n",
       "9       10     1973          BSB SHOPPING"
      ]
     },
     "execution_count": 79,
     "metadata": {},
     "output_type": "execute_result"
    }
   ],
   "source": [
    "loja"
   ]
  },
  {
   "cell_type": "code",
   "execution_count": 80,
   "id": "2857d3c7",
   "metadata": {
    "hidden": true
   },
   "outputs": [
    {
     "data": {
      "text/html": [
       "<div>\n",
       "<style scoped>\n",
       "    .dataframe tbody tr th:only-of-type {\n",
       "        vertical-align: middle;\n",
       "    }\n",
       "\n",
       "    .dataframe tbody tr th {\n",
       "        vertical-align: top;\n",
       "    }\n",
       "\n",
       "    .dataframe thead th {\n",
       "        text-align: right;\n",
       "    }\n",
       "</style>\n",
       "<table border=\"1\" class=\"dataframe\">\n",
       "  <thead>\n",
       "    <tr style=\"text-align: right;\">\n",
       "      <th></th>\n",
       "      <th>SK_LOJA</th>\n",
       "      <th>SK_LOC</th>\n",
       "      <th>SK_PROD</th>\n",
       "      <th>SK_SET</th>\n",
       "      <th>DT_CAL</th>\n",
       "      <th>ID_VENDA</th>\n",
       "      <th>VAL_VENDA</th>\n",
       "      <th>LUCRO_VENDA</th>\n",
       "      <th>QTD_VENDA</th>\n",
       "      <th>TOT_VENDA</th>\n",
       "    </tr>\n",
       "  </thead>\n",
       "  <tbody>\n",
       "    <tr>\n",
       "      <th>0</th>\n",
       "      <td>2</td>\n",
       "      <td>4</td>\n",
       "      <td>1</td>\n",
       "      <td>1</td>\n",
       "      <td>2019-01-10</td>\n",
       "      <td>148</td>\n",
       "      <td>56</td>\n",
       "      <td>0.01</td>\n",
       "      <td>3</td>\n",
       "      <td>168</td>\n",
       "    </tr>\n",
       "    <tr>\n",
       "      <th>1</th>\n",
       "      <td>2</td>\n",
       "      <td>4</td>\n",
       "      <td>15</td>\n",
       "      <td>3</td>\n",
       "      <td>2019-01-10</td>\n",
       "      <td>148</td>\n",
       "      <td>14</td>\n",
       "      <td>0.02</td>\n",
       "      <td>8</td>\n",
       "      <td>112</td>\n",
       "    </tr>\n",
       "    <tr>\n",
       "      <th>2</th>\n",
       "      <td>2</td>\n",
       "      <td>4</td>\n",
       "      <td>18</td>\n",
       "      <td>3</td>\n",
       "      <td>2019-01-10</td>\n",
       "      <td>148</td>\n",
       "      <td>40</td>\n",
       "      <td>0.10</td>\n",
       "      <td>5</td>\n",
       "      <td>200</td>\n",
       "    </tr>\n",
       "    <tr>\n",
       "      <th>3</th>\n",
       "      <td>2</td>\n",
       "      <td>4</td>\n",
       "      <td>56</td>\n",
       "      <td>8</td>\n",
       "      <td>2019-01-10</td>\n",
       "      <td>148</td>\n",
       "      <td>19</td>\n",
       "      <td>0.25</td>\n",
       "      <td>8</td>\n",
       "      <td>152</td>\n",
       "    </tr>\n",
       "    <tr>\n",
       "      <th>4</th>\n",
       "      <td>2</td>\n",
       "      <td>4</td>\n",
       "      <td>41</td>\n",
       "      <td>7</td>\n",
       "      <td>2019-01-10</td>\n",
       "      <td>148</td>\n",
       "      <td>90</td>\n",
       "      <td>0.08</td>\n",
       "      <td>2</td>\n",
       "      <td>180</td>\n",
       "    </tr>\n",
       "  </tbody>\n",
       "</table>\n",
       "</div>"
      ],
      "text/plain": [
       "   SK_LOJA  SK_LOC  SK_PROD  SK_SET     DT_CAL  ID_VENDA  VAL_VENDA  \\\n",
       "0        2       4        1       1 2019-01-10       148         56   \n",
       "1        2       4       15       3 2019-01-10       148         14   \n",
       "2        2       4       18       3 2019-01-10       148         40   \n",
       "3        2       4       56       8 2019-01-10       148         19   \n",
       "4        2       4       41       7 2019-01-10       148         90   \n",
       "\n",
       "   LUCRO_VENDA  QTD_VENDA  TOT_VENDA  \n",
       "0         0.01          3        168  \n",
       "1         0.02          8        112  \n",
       "2         0.10          5        200  \n",
       "3         0.25          8        152  \n",
       "4         0.08          2        180  "
      ]
     },
     "execution_count": 80,
     "metadata": {},
     "output_type": "execute_result"
    }
   ],
   "source": [
    "vendas.head()"
   ]
  },
  {
   "cell_type": "code",
   "execution_count": 12,
   "id": "018c5507",
   "metadata": {
    "hidden": true
   },
   "outputs": [],
   "source": [
    "lojas = [num for num in vendas['SK_LOJA']]\n",
    "preco = [valor for valor in vendas['TOT_VENDA']]\n",
    "aux = list()\n",
    "valores = []\n",
    "\n",
    "for i in range(10):\n",
    "    valores.append(aux[:])"
   ]
  },
  {
   "cell_type": "code",
   "execution_count": 147,
   "id": "5247a49b",
   "metadata": {
    "hidden": true
   },
   "outputs": [],
   "source": [
    "for index, dado in enumerate(lojas):\n",
    "    valores[dado - 1].append(preco[index])"
   ]
  },
  {
   "cell_type": "code",
   "execution_count": 148,
   "id": "7d7ecf11",
   "metadata": {
    "hidden": true
   },
   "outputs": [
    {
     "name": "stdout",
     "output_type": "stream",
     "text": [
      "A loja 1 vendeu 23679 reais\n",
      "A loja 2 vendeu 20240 reais\n",
      "A loja 3 vendeu 18032 reais\n",
      "A loja 4 vendeu 20304 reais\n",
      "A loja 5 vendeu 12401 reais\n",
      "A loja 6 vendeu 20676 reais\n",
      "A loja 7 vendeu 22204 reais\n",
      "A loja 8 vendeu 17868 reais\n",
      "A loja 9 vendeu 22383 reais\n",
      "A loja 10 vendeu 7188 reais\n"
     ]
    }
   ],
   "source": [
    "for index, dado in enumerate(valores):\n",
    "    print(f'A loja {index + 1} vendeu {sum(valores[index])} reais')"
   ]
  },
  {
   "cell_type": "markdown",
   "id": "d1af18e7",
   "metadata": {
    "hidden": true
   },
   "source": [
    "<b><i>Com base nos dados acima, pode-se perceber que a loja que mais vendeu foi a loja número 1, com 23679 reais em vendas. A loja que menos vendeu foi a loja número 10, com 7188 reais em vendas. O total dos valores vendidos é de 184.975 reais.</i></b>"
   ]
  },
  {
   "cell_type": "markdown",
   "id": "f7b88ce8",
   "metadata": {
    "heading_collapsed": true,
    "hidden": true
   },
   "source": [
    "### Pergunta 2 "
   ]
  },
  {
   "cell_type": "code",
   "execution_count": 91,
   "id": "d8cf1b57",
   "metadata": {
    "hidden": true,
    "scrolled": true
   },
   "outputs": [
    {
     "data": {
      "text/html": [
       "<div>\n",
       "<style scoped>\n",
       "    .dataframe tbody tr th:only-of-type {\n",
       "        vertical-align: middle;\n",
       "    }\n",
       "\n",
       "    .dataframe tbody tr th {\n",
       "        vertical-align: top;\n",
       "    }\n",
       "\n",
       "    .dataframe thead th {\n",
       "        text-align: right;\n",
       "    }\n",
       "</style>\n",
       "<table border=\"1\" class=\"dataframe\">\n",
       "  <thead>\n",
       "    <tr style=\"text-align: right;\">\n",
       "      <th></th>\n",
       "      <th>SK_PROD</th>\n",
       "      <th>ID_PROD</th>\n",
       "      <th>DESC_PROD</th>\n",
       "    </tr>\n",
       "  </thead>\n",
       "  <tbody>\n",
       "    <tr>\n",
       "      <th>0</th>\n",
       "      <td>1</td>\n",
       "      <td>1597</td>\n",
       "      <td>Café</td>\n",
       "    </tr>\n",
       "    <tr>\n",
       "      <th>1</th>\n",
       "      <td>2</td>\n",
       "      <td>1606</td>\n",
       "      <td>Cerveja</td>\n",
       "    </tr>\n",
       "    <tr>\n",
       "      <th>2</th>\n",
       "      <td>3</td>\n",
       "      <td>1647</td>\n",
       "      <td>Refrigerante</td>\n",
       "    </tr>\n",
       "    <tr>\n",
       "      <th>3</th>\n",
       "      <td>4</td>\n",
       "      <td>1655</td>\n",
       "      <td>Suco</td>\n",
       "    </tr>\n",
       "    <tr>\n",
       "      <th>4</th>\n",
       "      <td>5</td>\n",
       "      <td>1656</td>\n",
       "      <td>Suco de frutas</td>\n",
       "    </tr>\n",
       "    <tr>\n",
       "      <th>...</th>\n",
       "      <td>...</td>\n",
       "      <td>...</td>\n",
       "      <td>...</td>\n",
       "    </tr>\n",
       "    <tr>\n",
       "      <th>75</th>\n",
       "      <td>76</td>\n",
       "      <td>1657</td>\n",
       "      <td>Tomate</td>\n",
       "    </tr>\n",
       "    <tr>\n",
       "      <th>76</th>\n",
       "      <td>77</td>\n",
       "      <td>1601</td>\n",
       "      <td>Carne</td>\n",
       "    </tr>\n",
       "    <tr>\n",
       "      <th>77</th>\n",
       "      <td>78</td>\n",
       "      <td>1620</td>\n",
       "      <td>Frango</td>\n",
       "    </tr>\n",
       "    <tr>\n",
       "      <th>78</th>\n",
       "      <td>79</td>\n",
       "      <td>1641</td>\n",
       "      <td>Peixe</td>\n",
       "    </tr>\n",
       "    <tr>\n",
       "      <th>79</th>\n",
       "      <td>80</td>\n",
       "      <td>1645</td>\n",
       "      <td>Presunto</td>\n",
       "    </tr>\n",
       "  </tbody>\n",
       "</table>\n",
       "<p>80 rows × 3 columns</p>\n",
       "</div>"
      ],
      "text/plain": [
       "    SK_PROD  ID_PROD       DESC_PROD\n",
       "0         1     1597            Café\n",
       "1         2     1606         Cerveja\n",
       "2         3     1647    Refrigerante\n",
       "3         4     1655            Suco\n",
       "4         5     1656  Suco de frutas\n",
       "..      ...      ...             ...\n",
       "75       76     1657          Tomate\n",
       "76       77     1601           Carne\n",
       "77       78     1620          Frango\n",
       "78       79     1641           Peixe\n",
       "79       80     1645        Presunto\n",
       "\n",
       "[80 rows x 3 columns]"
      ]
     },
     "execution_count": 91,
     "metadata": {},
     "output_type": "execute_result"
    }
   ],
   "source": [
    "produto"
   ]
  },
  {
   "cell_type": "code",
   "execution_count": 89,
   "id": "20433142",
   "metadata": {
    "hidden": true
   },
   "outputs": [
    {
     "data": {
      "text/html": [
       "<div>\n",
       "<style scoped>\n",
       "    .dataframe tbody tr th:only-of-type {\n",
       "        vertical-align: middle;\n",
       "    }\n",
       "\n",
       "    .dataframe tbody tr th {\n",
       "        vertical-align: top;\n",
       "    }\n",
       "\n",
       "    .dataframe thead th {\n",
       "        text-align: right;\n",
       "    }\n",
       "</style>\n",
       "<table border=\"1\" class=\"dataframe\">\n",
       "  <thead>\n",
       "    <tr style=\"text-align: right;\">\n",
       "      <th></th>\n",
       "      <th>SK_LOJA</th>\n",
       "      <th>ID_LOJA</th>\n",
       "      <th>DESC_LOJA</th>\n",
       "    </tr>\n",
       "  </thead>\n",
       "  <tbody>\n",
       "    <tr>\n",
       "      <th>0</th>\n",
       "      <td>1</td>\n",
       "      <td>4589</td>\n",
       "      <td>AGUAS CLARAS SHOPING</td>\n",
       "    </tr>\n",
       "    <tr>\n",
       "      <th>1</th>\n",
       "      <td>2</td>\n",
       "      <td>5896</td>\n",
       "      <td>SUDOESTE 1</td>\n",
       "    </tr>\n",
       "    <tr>\n",
       "      <th>2</th>\n",
       "      <td>3</td>\n",
       "      <td>7596</td>\n",
       "      <td>304 SUL</td>\n",
       "    </tr>\n",
       "    <tr>\n",
       "      <th>3</th>\n",
       "      <td>4</td>\n",
       "      <td>1478</td>\n",
       "      <td>IGUATEMI SHOP</td>\n",
       "    </tr>\n",
       "    <tr>\n",
       "      <th>4</th>\n",
       "      <td>5</td>\n",
       "      <td>3691</td>\n",
       "      <td>AGUAS CLARAS RUA 5</td>\n",
       "    </tr>\n",
       "    <tr>\n",
       "      <th>5</th>\n",
       "      <td>6</td>\n",
       "      <td>2589</td>\n",
       "      <td>LAGO SUL</td>\n",
       "    </tr>\n",
       "    <tr>\n",
       "      <th>6</th>\n",
       "      <td>7</td>\n",
       "      <td>4789</td>\n",
       "      <td>SUDOESTE 2</td>\n",
       "    </tr>\n",
       "    <tr>\n",
       "      <th>7</th>\n",
       "      <td>8</td>\n",
       "      <td>3578</td>\n",
       "      <td>310 SUL</td>\n",
       "    </tr>\n",
       "    <tr>\n",
       "      <th>8</th>\n",
       "      <td>9</td>\n",
       "      <td>4687</td>\n",
       "      <td>108 SUL</td>\n",
       "    </tr>\n",
       "    <tr>\n",
       "      <th>9</th>\n",
       "      <td>10</td>\n",
       "      <td>1973</td>\n",
       "      <td>BSB SHOPPING</td>\n",
       "    </tr>\n",
       "  </tbody>\n",
       "</table>\n",
       "</div>"
      ],
      "text/plain": [
       "   SK_LOJA  ID_LOJA             DESC_LOJA\n",
       "0        1     4589  AGUAS CLARAS SHOPING\n",
       "1        2     5896            SUDOESTE 1\n",
       "2        3     7596               304 SUL\n",
       "3        4     1478         IGUATEMI SHOP\n",
       "4        5     3691    AGUAS CLARAS RUA 5\n",
       "5        6     2589              LAGO SUL\n",
       "6        7     4789            SUDOESTE 2\n",
       "7        8     3578               310 SUL\n",
       "8        9     4687               108 SUL\n",
       "9       10     1973          BSB SHOPPING"
      ]
     },
     "execution_count": 89,
     "metadata": {},
     "output_type": "execute_result"
    }
   ],
   "source": [
    "loja"
   ]
  },
  {
   "cell_type": "code",
   "execution_count": 90,
   "id": "d90b058b",
   "metadata": {
    "hidden": true
   },
   "outputs": [
    {
     "data": {
      "text/html": [
       "<div>\n",
       "<style scoped>\n",
       "    .dataframe tbody tr th:only-of-type {\n",
       "        vertical-align: middle;\n",
       "    }\n",
       "\n",
       "    .dataframe tbody tr th {\n",
       "        vertical-align: top;\n",
       "    }\n",
       "\n",
       "    .dataframe thead th {\n",
       "        text-align: right;\n",
       "    }\n",
       "</style>\n",
       "<table border=\"1\" class=\"dataframe\">\n",
       "  <thead>\n",
       "    <tr style=\"text-align: right;\">\n",
       "      <th></th>\n",
       "      <th>SK_LOJA</th>\n",
       "      <th>SK_LOC</th>\n",
       "      <th>SK_PROD</th>\n",
       "      <th>SK_SET</th>\n",
       "      <th>DT_CAL</th>\n",
       "      <th>ID_VENDA</th>\n",
       "      <th>VAL_VENDA</th>\n",
       "      <th>LUCRO_VENDA</th>\n",
       "      <th>QTD_VENDA</th>\n",
       "      <th>TOT_VENDA</th>\n",
       "    </tr>\n",
       "  </thead>\n",
       "  <tbody>\n",
       "    <tr>\n",
       "      <th>0</th>\n",
       "      <td>2</td>\n",
       "      <td>4</td>\n",
       "      <td>1</td>\n",
       "      <td>1</td>\n",
       "      <td>2019-01-10</td>\n",
       "      <td>148</td>\n",
       "      <td>56</td>\n",
       "      <td>0.01</td>\n",
       "      <td>3</td>\n",
       "      <td>168</td>\n",
       "    </tr>\n",
       "    <tr>\n",
       "      <th>1</th>\n",
       "      <td>2</td>\n",
       "      <td>4</td>\n",
       "      <td>15</td>\n",
       "      <td>3</td>\n",
       "      <td>2019-01-10</td>\n",
       "      <td>148</td>\n",
       "      <td>14</td>\n",
       "      <td>0.02</td>\n",
       "      <td>8</td>\n",
       "      <td>112</td>\n",
       "    </tr>\n",
       "    <tr>\n",
       "      <th>2</th>\n",
       "      <td>2</td>\n",
       "      <td>4</td>\n",
       "      <td>18</td>\n",
       "      <td>3</td>\n",
       "      <td>2019-01-10</td>\n",
       "      <td>148</td>\n",
       "      <td>40</td>\n",
       "      <td>0.10</td>\n",
       "      <td>5</td>\n",
       "      <td>200</td>\n",
       "    </tr>\n",
       "    <tr>\n",
       "      <th>3</th>\n",
       "      <td>2</td>\n",
       "      <td>4</td>\n",
       "      <td>56</td>\n",
       "      <td>8</td>\n",
       "      <td>2019-01-10</td>\n",
       "      <td>148</td>\n",
       "      <td>19</td>\n",
       "      <td>0.25</td>\n",
       "      <td>8</td>\n",
       "      <td>152</td>\n",
       "    </tr>\n",
       "    <tr>\n",
       "      <th>4</th>\n",
       "      <td>2</td>\n",
       "      <td>4</td>\n",
       "      <td>41</td>\n",
       "      <td>7</td>\n",
       "      <td>2019-01-10</td>\n",
       "      <td>148</td>\n",
       "      <td>90</td>\n",
       "      <td>0.08</td>\n",
       "      <td>2</td>\n",
       "      <td>180</td>\n",
       "    </tr>\n",
       "  </tbody>\n",
       "</table>\n",
       "</div>"
      ],
      "text/plain": [
       "   SK_LOJA  SK_LOC  SK_PROD  SK_SET     DT_CAL  ID_VENDA  VAL_VENDA  \\\n",
       "0        2       4        1       1 2019-01-10       148         56   \n",
       "1        2       4       15       3 2019-01-10       148         14   \n",
       "2        2       4       18       3 2019-01-10       148         40   \n",
       "3        2       4       56       8 2019-01-10       148         19   \n",
       "4        2       4       41       7 2019-01-10       148         90   \n",
       "\n",
       "   LUCRO_VENDA  QTD_VENDA  TOT_VENDA  \n",
       "0         0.01          3        168  \n",
       "1         0.02          8        112  \n",
       "2         0.10          5        200  \n",
       "3         0.25          8        152  \n",
       "4         0.08          2        180  "
      ]
     },
     "execution_count": 90,
     "metadata": {},
     "output_type": "execute_result"
    }
   ],
   "source": [
    "vendas.head()"
   ]
  },
  {
   "cell_type": "code",
   "execution_count": 119,
   "id": "dc9183db",
   "metadata": {
    "hidden": true
   },
   "outputs": [],
   "source": [
    "prod = [valor for valor in vendas['SK_PROD']]"
   ]
  },
  {
   "cell_type": "code",
   "execution_count": 120,
   "id": "9f74bc8a",
   "metadata": {
    "hidden": true
   },
   "outputs": [],
   "source": [
    "contagem = []\n",
    "parametro = list(range(1, 81))\n",
    "\n",
    "for x in range(10):\n",
    "    contagem.append(aux[:])\n",
    "    \n",
    "for index, valor in enumerate(lojas):\n",
    "    contagem[valor - 1].append(prod[index])"
   ]
  },
  {
   "cell_type": "code",
   "execution_count": 151,
   "id": "d55d7be1",
   "metadata": {
    "hidden": true
   },
   "outputs": [
    {
     "name": "stdout",
     "output_type": "stream",
     "text": [
      "A loja 1 não vendeu ao menos 1 unidade de cada produto\n",
      "A loja 2 não vendeu ao menos 1 unidade de cada produto\n",
      "A loja 3 não vendeu ao menos 1 unidade de cada produto\n",
      "A loja 4 não vendeu ao menos 1 unidade de cada produto\n",
      "A loja 5 não vendeu ao menos 1 unidade de cada produto\n",
      "A loja 6 não vendeu ao menos 1 unidade de cada produto\n",
      "A loja 7 não vendeu ao menos 1 unidade de cada produto\n",
      "A loja 8 não vendeu ao menos 1 unidade de cada produto\n",
      "A loja 9 não vendeu ao menos 1 unidade de cada produto\n",
      "A loja 10 não vendeu ao menos 1 unidade de cada produto\n"
     ]
    }
   ],
   "source": [
    "for x in range(10):\n",
    "    for y in contagem[x]:\n",
    "        z = pd.Series(y)\n",
    "        z = z.sort_values(ascending=True)\n",
    "        if y == parametro:\n",
    "            print(f'A loja {x + 1} vendeu ao menos 1 unidade de cada produto ')\n",
    "            break\n",
    "        else:\n",
    "            print(f'A loja {x + 1} não vendeu ao menos 1 unidade de cada produto')\n",
    "            break"
   ]
  },
  {
   "cell_type": "markdown",
   "id": "c7b1d739",
   "metadata": {
    "hidden": true
   },
   "source": [
    "<b><i>Com base nos dados acima, pode-se perceber que nenhuma unidade (loja) conseguiu vender ao menos 1 unidade de cada produto no período de tempo na tabela vendas.</i></b>"
   ]
  },
  {
   "cell_type": "markdown",
   "id": "5e2571ec",
   "metadata": {
    "heading_collapsed": true,
    "hidden": true
   },
   "source": [
    "### Pergunta 3"
   ]
  },
  {
   "cell_type": "code",
   "execution_count": 154,
   "id": "c1f7ef44",
   "metadata": {
    "hidden": true,
    "scrolled": true
   },
   "outputs": [
    {
     "data": {
      "text/html": [
       "<div>\n",
       "<style scoped>\n",
       "    .dataframe tbody tr th:only-of-type {\n",
       "        vertical-align: middle;\n",
       "    }\n",
       "\n",
       "    .dataframe tbody tr th {\n",
       "        vertical-align: top;\n",
       "    }\n",
       "\n",
       "    .dataframe thead th {\n",
       "        text-align: right;\n",
       "    }\n",
       "</style>\n",
       "<table border=\"1\" class=\"dataframe\">\n",
       "  <thead>\n",
       "    <tr style=\"text-align: right;\">\n",
       "      <th></th>\n",
       "      <th>SK_LOJA</th>\n",
       "      <th>SK_LOC</th>\n",
       "      <th>SK_PROD</th>\n",
       "      <th>SK_SET</th>\n",
       "      <th>DT_CAL</th>\n",
       "      <th>ID_VENDA</th>\n",
       "      <th>VAL_VENDA</th>\n",
       "      <th>LUCRO_VENDA</th>\n",
       "      <th>QTD_VENDA</th>\n",
       "      <th>TOT_VENDA</th>\n",
       "    </tr>\n",
       "  </thead>\n",
       "  <tbody>\n",
       "    <tr>\n",
       "      <th>0</th>\n",
       "      <td>2</td>\n",
       "      <td>4</td>\n",
       "      <td>1</td>\n",
       "      <td>1</td>\n",
       "      <td>2019-01-10</td>\n",
       "      <td>148</td>\n",
       "      <td>56</td>\n",
       "      <td>0.01</td>\n",
       "      <td>3</td>\n",
       "      <td>168</td>\n",
       "    </tr>\n",
       "    <tr>\n",
       "      <th>1</th>\n",
       "      <td>2</td>\n",
       "      <td>4</td>\n",
       "      <td>15</td>\n",
       "      <td>3</td>\n",
       "      <td>2019-01-10</td>\n",
       "      <td>148</td>\n",
       "      <td>14</td>\n",
       "      <td>0.02</td>\n",
       "      <td>8</td>\n",
       "      <td>112</td>\n",
       "    </tr>\n",
       "    <tr>\n",
       "      <th>2</th>\n",
       "      <td>2</td>\n",
       "      <td>4</td>\n",
       "      <td>18</td>\n",
       "      <td>3</td>\n",
       "      <td>2019-01-10</td>\n",
       "      <td>148</td>\n",
       "      <td>40</td>\n",
       "      <td>0.10</td>\n",
       "      <td>5</td>\n",
       "      <td>200</td>\n",
       "    </tr>\n",
       "    <tr>\n",
       "      <th>3</th>\n",
       "      <td>2</td>\n",
       "      <td>4</td>\n",
       "      <td>56</td>\n",
       "      <td>8</td>\n",
       "      <td>2019-01-10</td>\n",
       "      <td>148</td>\n",
       "      <td>19</td>\n",
       "      <td>0.25</td>\n",
       "      <td>8</td>\n",
       "      <td>152</td>\n",
       "    </tr>\n",
       "    <tr>\n",
       "      <th>4</th>\n",
       "      <td>2</td>\n",
       "      <td>4</td>\n",
       "      <td>41</td>\n",
       "      <td>7</td>\n",
       "      <td>2019-01-10</td>\n",
       "      <td>148</td>\n",
       "      <td>90</td>\n",
       "      <td>0.08</td>\n",
       "      <td>2</td>\n",
       "      <td>180</td>\n",
       "    </tr>\n",
       "  </tbody>\n",
       "</table>\n",
       "</div>"
      ],
      "text/plain": [
       "   SK_LOJA  SK_LOC  SK_PROD  SK_SET     DT_CAL  ID_VENDA  VAL_VENDA  \\\n",
       "0        2       4        1       1 2019-01-10       148         56   \n",
       "1        2       4       15       3 2019-01-10       148         14   \n",
       "2        2       4       18       3 2019-01-10       148         40   \n",
       "3        2       4       56       8 2019-01-10       148         19   \n",
       "4        2       4       41       7 2019-01-10       148         90   \n",
       "\n",
       "   LUCRO_VENDA  QTD_VENDA  TOT_VENDA  \n",
       "0         0.01          3        168  \n",
       "1         0.02          8        112  \n",
       "2         0.10          5        200  \n",
       "3         0.25          8        152  \n",
       "4         0.08          2        180  "
      ]
     },
     "execution_count": 154,
     "metadata": {},
     "output_type": "execute_result"
    }
   ],
   "source": [
    "vendas.head()"
   ]
  },
  {
   "cell_type": "code",
   "execution_count": 235,
   "id": "c6fe4473",
   "metadata": {
    "hidden": true,
    "scrolled": true
   },
   "outputs": [
    {
     "data": {
      "text/html": [
       "<div>\n",
       "<style scoped>\n",
       "    .dataframe tbody tr th:only-of-type {\n",
       "        vertical-align: middle;\n",
       "    }\n",
       "\n",
       "    .dataframe tbody tr th {\n",
       "        vertical-align: top;\n",
       "    }\n",
       "\n",
       "    .dataframe thead th {\n",
       "        text-align: right;\n",
       "    }\n",
       "</style>\n",
       "<table border=\"1\" class=\"dataframe\">\n",
       "  <thead>\n",
       "    <tr style=\"text-align: right;\">\n",
       "      <th></th>\n",
       "      <th>SK_PROD</th>\n",
       "      <th>ID_PROD</th>\n",
       "      <th>DESC_PROD</th>\n",
       "    </tr>\n",
       "  </thead>\n",
       "  <tbody>\n",
       "    <tr>\n",
       "      <th>0</th>\n",
       "      <td>1</td>\n",
       "      <td>1597</td>\n",
       "      <td>Café</td>\n",
       "    </tr>\n",
       "    <tr>\n",
       "      <th>1</th>\n",
       "      <td>2</td>\n",
       "      <td>1606</td>\n",
       "      <td>Cerveja</td>\n",
       "    </tr>\n",
       "    <tr>\n",
       "      <th>2</th>\n",
       "      <td>3</td>\n",
       "      <td>1647</td>\n",
       "      <td>Refrigerante</td>\n",
       "    </tr>\n",
       "    <tr>\n",
       "      <th>3</th>\n",
       "      <td>4</td>\n",
       "      <td>1655</td>\n",
       "      <td>Suco</td>\n",
       "    </tr>\n",
       "    <tr>\n",
       "      <th>4</th>\n",
       "      <td>5</td>\n",
       "      <td>1656</td>\n",
       "      <td>Suco de frutas</td>\n",
       "    </tr>\n",
       "  </tbody>\n",
       "</table>\n",
       "</div>"
      ],
      "text/plain": [
       "   SK_PROD  ID_PROD       DESC_PROD\n",
       "0        1     1597            Café\n",
       "1        2     1606         Cerveja\n",
       "2        3     1647    Refrigerante\n",
       "3        4     1655            Suco\n",
       "4        5     1656  Suco de frutas"
      ]
     },
     "execution_count": 235,
     "metadata": {},
     "output_type": "execute_result"
    }
   ],
   "source": [
    "produto.head()"
   ]
  },
  {
   "cell_type": "code",
   "execution_count": 225,
   "id": "1097174d",
   "metadata": {
    "hidden": true
   },
   "outputs": [],
   "source": [
    "preco # -> para os valores dos produtos na ordem da tabela vendas\n",
    "prod # -> para os produtos em si na ordem da tabela vendas\n",
    "quant = [quantia for quantia in vendas['QTD_VENDA']] # -> indica a quantia vendida de cada produto \n",
    "\n",
    "prod_array = np.array(prod)\n",
    "preco_array = np.array(preco)\n",
    "quant_array = np.array(quant)\n",
    "\n",
    "prod_array = prod_array.reshape(-1, 1)\n",
    "preco_array = preco_array.reshape(-1, 1)\n",
    "quant_array = quant_array.reshape(-1, 1)\n",
    "\n",
    "new_table = np.concatenate((prod_array, preco_array), axis=1)\n",
    "other_table = np.concatenate((prod_array, quant_array), axis=1)"
   ]
  },
  {
   "cell_type": "code",
   "execution_count": 232,
   "id": "5ac2a856",
   "metadata": {
    "hidden": true,
    "scrolled": true
   },
   "outputs": [],
   "source": [
    "soma = total = maior = menor = pos_maior = pos_menor = 0\n",
    "caixa = []\n",
    "\n",
    "for index in range(1, 81):    \n",
    "    for x, y in enumerate(new_table):\n",
    "        if y[0] == index:\n",
    "            soma += y[1]\n",
    "    caixa.append(f'O produto {index} vendeu {soma} reais')\n",
    "    if index == 1:\n",
    "        maior = menor = soma\n",
    "        pos_maior = pos_menor = 1\n",
    "        \n",
    "    else:\n",
    "        if soma > maior:\n",
    "            maior = soma\n",
    "            pos_maior = index\n",
    "        if soma < menor:\n",
    "            menor = soma\n",
    "            pos_menor = index\n",
    "    total += soma\n",
    "    soma = 0        "
   ]
  },
  {
   "cell_type": "code",
   "execution_count": null,
   "id": "837e345f",
   "metadata": {
    "hidden": true
   },
   "outputs": [],
   "source": [
    "caixa"
   ]
  },
  {
   "cell_type": "code",
   "execution_count": 253,
   "id": "19c1f75a",
   "metadata": {
    "hidden": true,
    "scrolled": true
   },
   "outputs": [
    {
     "name": "stdout",
     "output_type": "stream",
     "text": [
      "O total foi de 184975 reais\n",
      "O maior valor foi 4952 no produto 63 e o menor valor foi 152 no produto 19\n"
     ]
    }
   ],
   "source": [
    "print(f'O total foi de {total} reais') \n",
    "print(f'O maior valor foi {maior} no produto {pos_maior} e o menor valor foi {menor} no produto {pos_menor}')"
   ]
  },
  {
   "cell_type": "code",
   "execution_count": 239,
   "id": "b7ea6516",
   "metadata": {
    "hidden": true
   },
   "outputs": [
    {
     "data": {
      "text/html": [
       "<div>\n",
       "<style scoped>\n",
       "    .dataframe tbody tr th:only-of-type {\n",
       "        vertical-align: middle;\n",
       "    }\n",
       "\n",
       "    .dataframe tbody tr th {\n",
       "        vertical-align: top;\n",
       "    }\n",
       "\n",
       "    .dataframe thead th {\n",
       "        text-align: right;\n",
       "    }\n",
       "</style>\n",
       "<table border=\"1\" class=\"dataframe\">\n",
       "  <thead>\n",
       "    <tr style=\"text-align: right;\">\n",
       "      <th></th>\n",
       "      <th>SK_PROD</th>\n",
       "      <th>ID_PROD</th>\n",
       "      <th>DESC_PROD</th>\n",
       "    </tr>\n",
       "  </thead>\n",
       "  <tbody>\n",
       "    <tr>\n",
       "      <th>18</th>\n",
       "      <td>19</td>\n",
       "      <td>1600</td>\n",
       "      <td>Caldo de legumes</td>\n",
       "    </tr>\n",
       "    <tr>\n",
       "      <th>62</th>\n",
       "      <td>63</td>\n",
       "      <td>1654</td>\n",
       "      <td>Sopa</td>\n",
       "    </tr>\n",
       "  </tbody>\n",
       "</table>\n",
       "</div>"
      ],
      "text/plain": [
       "    SK_PROD  ID_PROD         DESC_PROD\n",
       "18       19     1600  Caldo de legumes\n",
       "62       63     1654              Sopa"
      ]
     },
     "execution_count": 239,
     "metadata": {},
     "output_type": "execute_result"
    }
   ],
   "source": [
    "produto[produto.index.isin({62, 18})]"
   ]
  },
  {
   "cell_type": "markdown",
   "id": "d01d2862",
   "metadata": {
    "hidden": true
   },
   "source": [
    "<b><i>Pode-se concluir que o maior valor de venda (4952 reais) ocorreu no produto Sopa e o menor valor de venda (152 reais) ocorreu no produto Caldo de legumes.</i></b>"
   ]
  },
  {
   "cell_type": "code",
   "execution_count": 227,
   "id": "595f7c6c",
   "metadata": {
    "hidden": true,
    "scrolled": true
   },
   "outputs": [
    {
     "data": {
      "text/plain": [
       "6     78\n",
       "2     71\n",
       "7     71\n",
       "3     68\n",
       "10    67\n",
       "4     66\n",
       "5     61\n",
       "9     60\n",
       "1     60\n",
       "8     54\n",
       "dtype: int64"
      ]
     },
     "execution_count": 227,
     "metadata": {},
     "output_type": "execute_result"
    }
   ],
   "source": [
    "quant_series = pd.Series(quant)\n",
    "quant_series.value_counts()"
   ]
  },
  {
   "cell_type": "markdown",
   "id": "0fe9466d",
   "metadata": {
    "hidden": true
   },
   "source": [
    "<i>Agora sabemos que todas as quantidades vendidas variam de 1 a 10<i>"
   ]
  },
  {
   "cell_type": "code",
   "execution_count": 250,
   "id": "c647bcd0",
   "metadata": {
    "hidden": true
   },
   "outputs": [],
   "source": [
    "quantias = mais = menos = total_uni = pos_mais = pos_menos = 0\n",
    "quantidade = []\n",
    "\n",
    "for index in range(1, 81):\n",
    "    for x, y in enumerate(other_table):\n",
    "        if y[0] == index:\n",
    "            quantias += y[1]\n",
    "    quantidade.append(f'O produto {index} vendeu {quantias} unidades')\n",
    "    if index == 1:\n",
    "        mais = menos = quantias\n",
    "        pos_mais = pos_menos = 1\n",
    "        \n",
    "    else:\n",
    "        if quantias > mais:\n",
    "            mais = quantias\n",
    "            pos_mais = index\n",
    "        if (quantias != 0) and (quantias < menos):\n",
    "            menos = quantias\n",
    "            pos_menos = index\n",
    "       \n",
    "    total_uni += quantias\n",
    "    quantias = 0\n",
    "            \n",
    "    "
   ]
  },
  {
   "cell_type": "code",
   "execution_count": null,
   "id": "854e147f",
   "metadata": {
    "hidden": true
   },
   "outputs": [],
   "source": [
    "quantidade"
   ]
  },
  {
   "cell_type": "code",
   "execution_count": 251,
   "id": "274fd4af",
   "metadata": {
    "hidden": true,
    "scrolled": true
   },
   "outputs": [
    {
     "name": "stdout",
     "output_type": "stream",
     "text": [
      "O produto que mais vendeu unidades foi 62 com 82 unidades\n",
      "O produto que menos vendeu unidades foi 19 com 8 unidades\n"
     ]
    }
   ],
   "source": [
    "print(f'O produto que mais vendeu unidades foi {pos_mais} com {mais} unidades')\n",
    "print(f'O produto que menos vendeu unidades foi {pos_menos} com {menos} unidades')"
   ]
  },
  {
   "cell_type": "code",
   "execution_count": 252,
   "id": "affe4af7",
   "metadata": {
    "hidden": true,
    "scrolled": true
   },
   "outputs": [
    {
     "data": {
      "text/html": [
       "<div>\n",
       "<style scoped>\n",
       "    .dataframe tbody tr th:only-of-type {\n",
       "        vertical-align: middle;\n",
       "    }\n",
       "\n",
       "    .dataframe tbody tr th {\n",
       "        vertical-align: top;\n",
       "    }\n",
       "\n",
       "    .dataframe thead th {\n",
       "        text-align: right;\n",
       "    }\n",
       "</style>\n",
       "<table border=\"1\" class=\"dataframe\">\n",
       "  <thead>\n",
       "    <tr style=\"text-align: right;\">\n",
       "      <th></th>\n",
       "      <th>SK_PROD</th>\n",
       "      <th>ID_PROD</th>\n",
       "      <th>DESC_PROD</th>\n",
       "    </tr>\n",
       "  </thead>\n",
       "  <tbody>\n",
       "    <tr>\n",
       "      <th>18</th>\n",
       "      <td>19</td>\n",
       "      <td>1600</td>\n",
       "      <td>Caldo de legumes</td>\n",
       "    </tr>\n",
       "    <tr>\n",
       "      <th>61</th>\n",
       "      <td>62</td>\n",
       "      <td>1652</td>\n",
       "      <td>Sal grosso</td>\n",
       "    </tr>\n",
       "  </tbody>\n",
       "</table>\n",
       "</div>"
      ],
      "text/plain": [
       "    SK_PROD  ID_PROD         DESC_PROD\n",
       "18       19     1600  Caldo de legumes\n",
       "61       62     1652        Sal grosso"
      ]
     },
     "execution_count": 252,
     "metadata": {},
     "output_type": "execute_result"
    }
   ],
   "source": [
    "produto[produto.index.isin({61, 18})]"
   ]
  },
  {
   "cell_type": "code",
   "execution_count": 245,
   "id": "e0a19846",
   "metadata": {
    "hidden": true,
    "scrolled": false
   },
   "outputs": [
    {
     "data": {
      "text/html": [
       "<div>\n",
       "<style scoped>\n",
       "    .dataframe tbody tr th:only-of-type {\n",
       "        vertical-align: middle;\n",
       "    }\n",
       "\n",
       "    .dataframe tbody tr th {\n",
       "        vertical-align: top;\n",
       "    }\n",
       "\n",
       "    .dataframe thead th {\n",
       "        text-align: right;\n",
       "    }\n",
       "</style>\n",
       "<table border=\"1\" class=\"dataframe\">\n",
       "  <thead>\n",
       "    <tr style=\"text-align: right;\">\n",
       "      <th></th>\n",
       "      <th>SK_LOJA</th>\n",
       "      <th>SK_LOC</th>\n",
       "      <th>SK_PROD</th>\n",
       "      <th>SK_SET</th>\n",
       "      <th>DT_CAL</th>\n",
       "      <th>ID_VENDA</th>\n",
       "      <th>VAL_VENDA</th>\n",
       "      <th>LUCRO_VENDA</th>\n",
       "      <th>QTD_VENDA</th>\n",
       "      <th>TOT_VENDA</th>\n",
       "    </tr>\n",
       "  </thead>\n",
       "  <tbody>\n",
       "    <tr>\n",
       "      <th>84</th>\n",
       "      <td>1</td>\n",
       "      <td>1</td>\n",
       "      <td>61</td>\n",
       "      <td>8</td>\n",
       "      <td>2019-03-11</td>\n",
       "      <td>248</td>\n",
       "      <td>79</td>\n",
       "      <td>0.100</td>\n",
       "      <td>10</td>\n",
       "      <td>790</td>\n",
       "    </tr>\n",
       "    <tr>\n",
       "      <th>166</th>\n",
       "      <td>2</td>\n",
       "      <td>4</td>\n",
       "      <td>61</td>\n",
       "      <td>8</td>\n",
       "      <td>2019-05-10</td>\n",
       "      <td>348</td>\n",
       "      <td>59</td>\n",
       "      <td>0.100</td>\n",
       "      <td>4</td>\n",
       "      <td>236</td>\n",
       "    </tr>\n",
       "    <tr>\n",
       "      <th>183</th>\n",
       "      <td>3</td>\n",
       "      <td>2</td>\n",
       "      <td>61</td>\n",
       "      <td>8</td>\n",
       "      <td>2019-05-10</td>\n",
       "      <td>349</td>\n",
       "      <td>48</td>\n",
       "      <td>0.351</td>\n",
       "      <td>2</td>\n",
       "      <td>96</td>\n",
       "    </tr>\n",
       "    <tr>\n",
       "      <th>214</th>\n",
       "      <td>9</td>\n",
       "      <td>2</td>\n",
       "      <td>61</td>\n",
       "      <td>8</td>\n",
       "      <td>2019-06-10</td>\n",
       "      <td>357</td>\n",
       "      <td>29</td>\n",
       "      <td>0.351</td>\n",
       "      <td>2</td>\n",
       "      <td>58</td>\n",
       "    </tr>\n",
       "    <tr>\n",
       "      <th>246</th>\n",
       "      <td>5</td>\n",
       "      <td>1</td>\n",
       "      <td>61</td>\n",
       "      <td>8</td>\n",
       "      <td>2019-07-09</td>\n",
       "      <td>448</td>\n",
       "      <td>89</td>\n",
       "      <td>0.010</td>\n",
       "      <td>3</td>\n",
       "      <td>267</td>\n",
       "    </tr>\n",
       "    <tr>\n",
       "      <th>335</th>\n",
       "      <td>1</td>\n",
       "      <td>1</td>\n",
       "      <td>61</td>\n",
       "      <td>8</td>\n",
       "      <td>2019-09-07</td>\n",
       "      <td>548</td>\n",
       "      <td>80</td>\n",
       "      <td>0.277</td>\n",
       "      <td>8</td>\n",
       "      <td>640</td>\n",
       "    </tr>\n",
       "    <tr>\n",
       "      <th>350</th>\n",
       "      <td>8</td>\n",
       "      <td>2</td>\n",
       "      <td>61</td>\n",
       "      <td>8</td>\n",
       "      <td>2019-09-07</td>\n",
       "      <td>551</td>\n",
       "      <td>40</td>\n",
       "      <td>0.020</td>\n",
       "      <td>3</td>\n",
       "      <td>120</td>\n",
       "    </tr>\n",
       "    <tr>\n",
       "      <th>358</th>\n",
       "      <td>10</td>\n",
       "      <td>3</td>\n",
       "      <td>61</td>\n",
       "      <td>8</td>\n",
       "      <td>2019-09-09</td>\n",
       "      <td>553</td>\n",
       "      <td>37</td>\n",
       "      <td>0.203</td>\n",
       "      <td>3</td>\n",
       "      <td>111</td>\n",
       "    </tr>\n",
       "    <tr>\n",
       "      <th>378</th>\n",
       "      <td>7</td>\n",
       "      <td>4</td>\n",
       "      <td>61</td>\n",
       "      <td>8</td>\n",
       "      <td>2019-10-08</td>\n",
       "      <td>557</td>\n",
       "      <td>26</td>\n",
       "      <td>0.351</td>\n",
       "      <td>3</td>\n",
       "      <td>78</td>\n",
       "    </tr>\n",
       "    <tr>\n",
       "      <th>395</th>\n",
       "      <td>4</td>\n",
       "      <td>3</td>\n",
       "      <td>61</td>\n",
       "      <td>8</td>\n",
       "      <td>2019-10-13</td>\n",
       "      <td>560</td>\n",
       "      <td>7</td>\n",
       "      <td>0.203</td>\n",
       "      <td>3</td>\n",
       "      <td>21</td>\n",
       "    </tr>\n",
       "    <tr>\n",
       "      <th>418</th>\n",
       "      <td>1</td>\n",
       "      <td>1</td>\n",
       "      <td>61</td>\n",
       "      <td>8</td>\n",
       "      <td>2019-11-06</td>\n",
       "      <td>648</td>\n",
       "      <td>29</td>\n",
       "      <td>0.314</td>\n",
       "      <td>7</td>\n",
       "      <td>203</td>\n",
       "    </tr>\n",
       "    <tr>\n",
       "      <th>583</th>\n",
       "      <td>4</td>\n",
       "      <td>3</td>\n",
       "      <td>61</td>\n",
       "      <td>8</td>\n",
       "      <td>2020-03-05</td>\n",
       "      <td>848</td>\n",
       "      <td>79</td>\n",
       "      <td>0.351</td>\n",
       "      <td>9</td>\n",
       "      <td>711</td>\n",
       "    </tr>\n",
       "    <tr>\n",
       "      <th>600</th>\n",
       "      <td>8</td>\n",
       "      <td>2</td>\n",
       "      <td>61</td>\n",
       "      <td>8</td>\n",
       "      <td>2020-03-05</td>\n",
       "      <td>851</td>\n",
       "      <td>21</td>\n",
       "      <td>0.203</td>\n",
       "      <td>7</td>\n",
       "      <td>147</td>\n",
       "    </tr>\n",
       "    <tr>\n",
       "      <th>636</th>\n",
       "      <td>4</td>\n",
       "      <td>3</td>\n",
       "      <td>61</td>\n",
       "      <td>8</td>\n",
       "      <td>2020-04-10</td>\n",
       "      <td>860</td>\n",
       "      <td>22</td>\n",
       "      <td>0.010</td>\n",
       "      <td>10</td>\n",
       "      <td>220</td>\n",
       "    </tr>\n",
       "  </tbody>\n",
       "</table>\n",
       "</div>"
      ],
      "text/plain": [
       "     SK_LOJA  SK_LOC  SK_PROD  SK_SET     DT_CAL  ID_VENDA  VAL_VENDA  \\\n",
       "84         1       1       61       8 2019-03-11       248         79   \n",
       "166        2       4       61       8 2019-05-10       348         59   \n",
       "183        3       2       61       8 2019-05-10       349         48   \n",
       "214        9       2       61       8 2019-06-10       357         29   \n",
       "246        5       1       61       8 2019-07-09       448         89   \n",
       "335        1       1       61       8 2019-09-07       548         80   \n",
       "350        8       2       61       8 2019-09-07       551         40   \n",
       "358       10       3       61       8 2019-09-09       553         37   \n",
       "378        7       4       61       8 2019-10-08       557         26   \n",
       "395        4       3       61       8 2019-10-13       560          7   \n",
       "418        1       1       61       8 2019-11-06       648         29   \n",
       "583        4       3       61       8 2020-03-05       848         79   \n",
       "600        8       2       61       8 2020-03-05       851         21   \n",
       "636        4       3       61       8 2020-04-10       860         22   \n",
       "\n",
       "     LUCRO_VENDA  QTD_VENDA  TOT_VENDA  \n",
       "84         0.100         10        790  \n",
       "166        0.100          4        236  \n",
       "183        0.351          2         96  \n",
       "214        0.351          2         58  \n",
       "246        0.010          3        267  \n",
       "335        0.277          8        640  \n",
       "350        0.020          3        120  \n",
       "358        0.203          3        111  \n",
       "378        0.351          3         78  \n",
       "395        0.203          3         21  \n",
       "418        0.314          7        203  \n",
       "583        0.351          9        711  \n",
       "600        0.203          7        147  \n",
       "636        0.010         10        220  "
      ]
     },
     "execution_count": 245,
     "metadata": {},
     "output_type": "execute_result"
    }
   ],
   "source": [
    "vendas[vendas['SK_PROD'].isin({61})]"
   ]
  },
  {
   "cell_type": "code",
   "execution_count": 246,
   "id": "73139dc1",
   "metadata": {
    "hidden": true
   },
   "outputs": [
    {
     "data": {
      "text/plain": [
       "3698"
      ]
     },
     "execution_count": 246,
     "metadata": {},
     "output_type": "execute_result"
    }
   ],
   "source": [
    "a = vendas[vendas['SK_PROD'].isin({61})]\n",
    "a['TOT_VENDA'].sum()"
   ]
  },
  {
   "cell_type": "code",
   "execution_count": 254,
   "id": "89aee90f",
   "metadata": {
    "hidden": true
   },
   "outputs": [
    {
     "data": {
      "text/plain": [
       "2966"
      ]
     },
     "execution_count": 254,
     "metadata": {},
     "output_type": "execute_result"
    }
   ],
   "source": [
    "b = vendas[vendas['SK_PROD'].isin({18})]\n",
    "b['TOT_VENDA'].sum()"
   ]
  },
  {
   "cell_type": "markdown",
   "id": "a162c22f",
   "metadata": {
    "hidden": true
   },
   "source": [
    "<b><i>O produto que mais vendeu unidades foi Sal grosso, com 82 unidades vendidas e um total de 3698 reais em vendas. O produto que menos vendeu unidades foi Caldo de legumes com apenas 2966 reais em vendas.</i></b>"
   ]
  },
  {
   "cell_type": "markdown",
   "id": "d5c4d65c",
   "metadata": {
    "heading_collapsed": true,
    "hidden": true
   },
   "source": [
    "### Pergunta 4"
   ]
  },
  {
   "cell_type": "code",
   "execution_count": 258,
   "id": "5216259a",
   "metadata": {
    "hidden": true
   },
   "outputs": [
    {
     "data": {
      "text/html": [
       "<div>\n",
       "<style scoped>\n",
       "    .dataframe tbody tr th:only-of-type {\n",
       "        vertical-align: middle;\n",
       "    }\n",
       "\n",
       "    .dataframe tbody tr th {\n",
       "        vertical-align: top;\n",
       "    }\n",
       "\n",
       "    .dataframe thead th {\n",
       "        text-align: right;\n",
       "    }\n",
       "</style>\n",
       "<table border=\"1\" class=\"dataframe\">\n",
       "  <thead>\n",
       "    <tr style=\"text-align: right;\">\n",
       "      <th></th>\n",
       "      <th>SK_SET</th>\n",
       "      <th>ID_SET</th>\n",
       "      <th>DESC_SET</th>\n",
       "    </tr>\n",
       "  </thead>\n",
       "  <tbody>\n",
       "    <tr>\n",
       "      <th>0</th>\n",
       "      <td>1</td>\n",
       "      <td>456</td>\n",
       "      <td>BEDIDAS</td>\n",
       "    </tr>\n",
       "    <tr>\n",
       "      <th>1</th>\n",
       "      <td>2</td>\n",
       "      <td>697</td>\n",
       "      <td>LATICINIOS</td>\n",
       "    </tr>\n",
       "    <tr>\n",
       "      <th>2</th>\n",
       "      <td>3</td>\n",
       "      <td>36</td>\n",
       "      <td>ENLATADOS</td>\n",
       "    </tr>\n",
       "    <tr>\n",
       "      <th>3</th>\n",
       "      <td>4</td>\n",
       "      <td>257</td>\n",
       "      <td>DOCES E SOBREMESAS</td>\n",
       "    </tr>\n",
       "    <tr>\n",
       "      <th>4</th>\n",
       "      <td>5</td>\n",
       "      <td>367</td>\n",
       "      <td>CONCELADOS</td>\n",
       "    </tr>\n",
       "    <tr>\n",
       "      <th>5</th>\n",
       "      <td>6</td>\n",
       "      <td>496</td>\n",
       "      <td>HIGIENE PESSOAL</td>\n",
       "    </tr>\n",
       "    <tr>\n",
       "      <th>6</th>\n",
       "      <td>7</td>\n",
       "      <td>47</td>\n",
       "      <td>LIMPEZA</td>\n",
       "    </tr>\n",
       "    <tr>\n",
       "      <th>7</th>\n",
       "      <td>8</td>\n",
       "      <td>83</td>\n",
       "      <td>ALIMENTOS</td>\n",
       "    </tr>\n",
       "    <tr>\n",
       "      <th>8</th>\n",
       "      <td>9</td>\n",
       "      <td>29</td>\n",
       "      <td>FEIRA</td>\n",
       "    </tr>\n",
       "    <tr>\n",
       "      <th>9</th>\n",
       "      <td>10</td>\n",
       "      <td>451</td>\n",
       "      <td>ACOUGUE</td>\n",
       "    </tr>\n",
       "  </tbody>\n",
       "</table>\n",
       "</div>"
      ],
      "text/plain": [
       "   SK_SET  ID_SET            DESC_SET\n",
       "0       1     456             BEDIDAS\n",
       "1       2     697          LATICINIOS\n",
       "2       3      36           ENLATADOS\n",
       "3       4     257  DOCES E SOBREMESAS\n",
       "4       5     367          CONCELADOS\n",
       "5       6     496     HIGIENE PESSOAL\n",
       "6       7      47             LIMPEZA\n",
       "7       8      83           ALIMENTOS\n",
       "8       9      29               FEIRA\n",
       "9      10     451             ACOUGUE"
      ]
     },
     "execution_count": 258,
     "metadata": {},
     "output_type": "execute_result"
    }
   ],
   "source": [
    "setor # -> TABELA SETOR"
   ]
  },
  {
   "cell_type": "code",
   "execution_count": 260,
   "id": "80d2d700",
   "metadata": {
    "hidden": true
   },
   "outputs": [],
   "source": [
    "setores = [dado for dado in vendas['SK_SET']]"
   ]
  },
  {
   "cell_type": "code",
   "execution_count": 261,
   "id": "c75cc933",
   "metadata": {
    "hidden": true
   },
   "outputs": [],
   "source": [
    "setores = pd.Series(setores)"
   ]
  },
  {
   "cell_type": "code",
   "execution_count": 264,
   "id": "c440060e",
   "metadata": {
    "hidden": true,
    "scrolled": false
   },
   "outputs": [
    {
     "data": {
      "text/plain": [
       "8     23.932927\n",
       "7     11.737805\n",
       "9     11.737805\n",
       "3     11.280488\n",
       "2     10.670732\n",
       "6      8.841463\n",
       "1      7.774390\n",
       "4      7.469512\n",
       "10     5.487805\n",
       "5      1.067073\n",
       "dtype: float64"
      ]
     },
     "execution_count": 264,
     "metadata": {},
     "output_type": "execute_result"
    }
   ],
   "source": [
    "setores.value_counts(normalize=True) * 100"
   ]
  },
  {
   "cell_type": "code",
   "execution_count": 266,
   "id": "2b745385",
   "metadata": {
    "hidden": true
   },
   "outputs": [
    {
     "data": {
      "text/html": [
       "<div>\n",
       "<style scoped>\n",
       "    .dataframe tbody tr th:only-of-type {\n",
       "        vertical-align: middle;\n",
       "    }\n",
       "\n",
       "    .dataframe tbody tr th {\n",
       "        vertical-align: top;\n",
       "    }\n",
       "\n",
       "    .dataframe thead th {\n",
       "        text-align: right;\n",
       "    }\n",
       "</style>\n",
       "<table border=\"1\" class=\"dataframe\">\n",
       "  <thead>\n",
       "    <tr style=\"text-align: right;\">\n",
       "      <th></th>\n",
       "      <th>SK_SET</th>\n",
       "      <th>ID_SET</th>\n",
       "      <th>DESC_SET</th>\n",
       "    </tr>\n",
       "  </thead>\n",
       "  <tbody>\n",
       "    <tr>\n",
       "      <th>4</th>\n",
       "      <td>5</td>\n",
       "      <td>367</td>\n",
       "      <td>CONCELADOS</td>\n",
       "    </tr>\n",
       "    <tr>\n",
       "      <th>7</th>\n",
       "      <td>8</td>\n",
       "      <td>83</td>\n",
       "      <td>ALIMENTOS</td>\n",
       "    </tr>\n",
       "  </tbody>\n",
       "</table>\n",
       "</div>"
      ],
      "text/plain": [
       "   SK_SET  ID_SET    DESC_SET\n",
       "4       5     367  CONCELADOS\n",
       "7       8      83   ALIMENTOS"
      ]
     },
     "execution_count": 266,
     "metadata": {},
     "output_type": "execute_result"
    }
   ],
   "source": [
    "setor[setor['SK_SET'].isin({8, 5})]"
   ]
  },
  {
   "cell_type": "markdown",
   "id": "44fe9466",
   "metadata": {
    "hidden": true
   },
   "source": [
    "<b><i>Como é possível ver acima, o setor 8 (Alimentos) foi o que mais vendeu, com aproximadamente 24% do percentual total de vendas. Enquanto o setor 5 (Congelados) foi o que menos vendeu, com cerca de 1% do total de vendas.</i></b>"
   ]
  },
  {
   "cell_type": "markdown",
   "id": "c22f7b55",
   "metadata": {
    "heading_collapsed": true,
    "hidden": true
   },
   "source": [
    "### Pergunta 5"
   ]
  },
  {
   "cell_type": "code",
   "execution_count": 8,
   "id": "42256fc2",
   "metadata": {
    "hidden": true
   },
   "outputs": [
    {
     "data": {
      "text/html": [
       "<div>\n",
       "<style scoped>\n",
       "    .dataframe tbody tr th:only-of-type {\n",
       "        vertical-align: middle;\n",
       "    }\n",
       "\n",
       "    .dataframe tbody tr th {\n",
       "        vertical-align: top;\n",
       "    }\n",
       "\n",
       "    .dataframe thead th {\n",
       "        text-align: right;\n",
       "    }\n",
       "</style>\n",
       "<table border=\"1\" class=\"dataframe\">\n",
       "  <thead>\n",
       "    <tr style=\"text-align: right;\">\n",
       "      <th></th>\n",
       "      <th>SK_LOJA</th>\n",
       "      <th>ID_LOJA</th>\n",
       "      <th>DESC_LOJA</th>\n",
       "    </tr>\n",
       "  </thead>\n",
       "  <tbody>\n",
       "    <tr>\n",
       "      <th>0</th>\n",
       "      <td>1</td>\n",
       "      <td>4589</td>\n",
       "      <td>AGUAS CLARAS SHOPING</td>\n",
       "    </tr>\n",
       "    <tr>\n",
       "      <th>1</th>\n",
       "      <td>2</td>\n",
       "      <td>5896</td>\n",
       "      <td>SUDOESTE 1</td>\n",
       "    </tr>\n",
       "    <tr>\n",
       "      <th>2</th>\n",
       "      <td>3</td>\n",
       "      <td>7596</td>\n",
       "      <td>304 SUL</td>\n",
       "    </tr>\n",
       "    <tr>\n",
       "      <th>3</th>\n",
       "      <td>4</td>\n",
       "      <td>1478</td>\n",
       "      <td>IGUATEMI SHOP</td>\n",
       "    </tr>\n",
       "    <tr>\n",
       "      <th>4</th>\n",
       "      <td>5</td>\n",
       "      <td>3691</td>\n",
       "      <td>AGUAS CLARAS RUA 5</td>\n",
       "    </tr>\n",
       "    <tr>\n",
       "      <th>5</th>\n",
       "      <td>6</td>\n",
       "      <td>2589</td>\n",
       "      <td>LAGO SUL</td>\n",
       "    </tr>\n",
       "    <tr>\n",
       "      <th>6</th>\n",
       "      <td>7</td>\n",
       "      <td>4789</td>\n",
       "      <td>SUDOESTE 2</td>\n",
       "    </tr>\n",
       "    <tr>\n",
       "      <th>7</th>\n",
       "      <td>8</td>\n",
       "      <td>3578</td>\n",
       "      <td>310 SUL</td>\n",
       "    </tr>\n",
       "    <tr>\n",
       "      <th>8</th>\n",
       "      <td>9</td>\n",
       "      <td>4687</td>\n",
       "      <td>108 SUL</td>\n",
       "    </tr>\n",
       "    <tr>\n",
       "      <th>9</th>\n",
       "      <td>10</td>\n",
       "      <td>1973</td>\n",
       "      <td>BSB SHOPPING</td>\n",
       "    </tr>\n",
       "  </tbody>\n",
       "</table>\n",
       "</div>"
      ],
      "text/plain": [
       "   SK_LOJA  ID_LOJA             DESC_LOJA\n",
       "0        1     4589  AGUAS CLARAS SHOPING\n",
       "1        2     5896            SUDOESTE 1\n",
       "2        3     7596               304 SUL\n",
       "3        4     1478         IGUATEMI SHOP\n",
       "4        5     3691    AGUAS CLARAS RUA 5\n",
       "5        6     2589              LAGO SUL\n",
       "6        7     4789            SUDOESTE 2\n",
       "7        8     3578               310 SUL\n",
       "8        9     4687               108 SUL\n",
       "9       10     1973          BSB SHOPPING"
      ]
     },
     "execution_count": 8,
     "metadata": {},
     "output_type": "execute_result"
    }
   ],
   "source": [
    "loja"
   ]
  },
  {
   "cell_type": "code",
   "execution_count": 9,
   "id": "2e7051a6",
   "metadata": {
    "hidden": true
   },
   "outputs": [
    {
     "data": {
      "text/html": [
       "<div>\n",
       "<style scoped>\n",
       "    .dataframe tbody tr th:only-of-type {\n",
       "        vertical-align: middle;\n",
       "    }\n",
       "\n",
       "    .dataframe tbody tr th {\n",
       "        vertical-align: top;\n",
       "    }\n",
       "\n",
       "    .dataframe thead th {\n",
       "        text-align: right;\n",
       "    }\n",
       "</style>\n",
       "<table border=\"1\" class=\"dataframe\">\n",
       "  <thead>\n",
       "    <tr style=\"text-align: right;\">\n",
       "      <th></th>\n",
       "      <th>SK_LOC</th>\n",
       "      <th>ID_LOC</th>\n",
       "      <th>DESC_LOC</th>\n",
       "    </tr>\n",
       "  </thead>\n",
       "  <tbody>\n",
       "    <tr>\n",
       "      <th>0</th>\n",
       "      <td>1</td>\n",
       "      <td>258</td>\n",
       "      <td>AGUAS CLARAS</td>\n",
       "    </tr>\n",
       "    <tr>\n",
       "      <th>1</th>\n",
       "      <td>2</td>\n",
       "      <td>496</td>\n",
       "      <td>ASA SUL</td>\n",
       "    </tr>\n",
       "    <tr>\n",
       "      <th>2</th>\n",
       "      <td>3</td>\n",
       "      <td>478</td>\n",
       "      <td>ASA NORTE</td>\n",
       "    </tr>\n",
       "    <tr>\n",
       "      <th>3</th>\n",
       "      <td>4</td>\n",
       "      <td>631</td>\n",
       "      <td>SUDOESTE</td>\n",
       "    </tr>\n",
       "    <tr>\n",
       "      <th>4</th>\n",
       "      <td>5</td>\n",
       "      <td>732</td>\n",
       "      <td>GAMA</td>\n",
       "    </tr>\n",
       "  </tbody>\n",
       "</table>\n",
       "</div>"
      ],
      "text/plain": [
       "   SK_LOC  ID_LOC      DESC_LOC\n",
       "0       1     258  AGUAS CLARAS\n",
       "1       2     496       ASA SUL\n",
       "2       3     478     ASA NORTE\n",
       "3       4     631      SUDOESTE\n",
       "4       5     732          GAMA"
      ]
     },
     "execution_count": 9,
     "metadata": {},
     "output_type": "execute_result"
    }
   ],
   "source": [
    "local"
   ]
  },
  {
   "cell_type": "code",
   "execution_count": 11,
   "id": "cf1fb128",
   "metadata": {
    "hidden": true,
    "scrolled": true
   },
   "outputs": [
    {
     "data": {
      "text/html": [
       "<div>\n",
       "<style scoped>\n",
       "    .dataframe tbody tr th:only-of-type {\n",
       "        vertical-align: middle;\n",
       "    }\n",
       "\n",
       "    .dataframe tbody tr th {\n",
       "        vertical-align: top;\n",
       "    }\n",
       "\n",
       "    .dataframe thead th {\n",
       "        text-align: right;\n",
       "    }\n",
       "</style>\n",
       "<table border=\"1\" class=\"dataframe\">\n",
       "  <thead>\n",
       "    <tr style=\"text-align: right;\">\n",
       "      <th></th>\n",
       "      <th>SK_LOJA</th>\n",
       "      <th>SK_LOC</th>\n",
       "      <th>SK_PROD</th>\n",
       "      <th>SK_SET</th>\n",
       "      <th>DT_CAL</th>\n",
       "      <th>ID_VENDA</th>\n",
       "      <th>VAL_VENDA</th>\n",
       "      <th>LUCRO_VENDA</th>\n",
       "      <th>QTD_VENDA</th>\n",
       "      <th>TOT_VENDA</th>\n",
       "    </tr>\n",
       "  </thead>\n",
       "  <tbody>\n",
       "    <tr>\n",
       "      <th>0</th>\n",
       "      <td>2</td>\n",
       "      <td>4</td>\n",
       "      <td>1</td>\n",
       "      <td>1</td>\n",
       "      <td>2019-01-10</td>\n",
       "      <td>148</td>\n",
       "      <td>56</td>\n",
       "      <td>0.01</td>\n",
       "      <td>3</td>\n",
       "      <td>168</td>\n",
       "    </tr>\n",
       "  </tbody>\n",
       "</table>\n",
       "</div>"
      ],
      "text/plain": [
       "   SK_LOJA  SK_LOC  SK_PROD  SK_SET     DT_CAL  ID_VENDA  VAL_VENDA  \\\n",
       "0        2       4        1       1 2019-01-10       148         56   \n",
       "\n",
       "   LUCRO_VENDA  QTD_VENDA  TOT_VENDA  \n",
       "0         0.01          3        168  "
      ]
     },
     "execution_count": 11,
     "metadata": {},
     "output_type": "execute_result"
    }
   ],
   "source": [
    "vendas.head(1)"
   ]
  },
  {
   "cell_type": "code",
   "execution_count": 20,
   "id": "17e7229b",
   "metadata": {
    "hidden": true
   },
   "outputs": [
    {
     "data": {
      "text/plain": [
       "array([ 1,  2,  3,  4,  5,  6,  7,  8,  9, 10], dtype=int64)"
      ]
     },
     "execution_count": 20,
     "metadata": {},
     "output_type": "execute_result"
    }
   ],
   "source": [
    "# vamos usar a variável anterior lojas aqui\n",
    "serie_lojas = pd.Series(lojas)\n",
    "sk_loja = list(range(1, 11))\n",
    "unidades = serie_lojas.unique()\n",
    "unidades.sort()"
   ]
  },
  {
   "cell_type": "code",
   "execution_count": 21,
   "id": "89e53575",
   "metadata": {
    "hidden": true
   },
   "outputs": [
    {
     "name": "stdout",
     "output_type": "stream",
     "text": [
      "[ True  True  True  True  True  True  True  True  True  True]\n"
     ]
    }
   ],
   "source": [
    "print(unidades == sk_loja)"
   ]
  },
  {
   "cell_type": "markdown",
   "id": "5f78e76b",
   "metadata": {
    "hidden": true
   },
   "source": [
    "<b><i>O que isso quer dizer? A coluna SK_LOJA enumera todas as lojas de 1 a 10, logo, para saber se todas as lojas venderam, todos esses números precisam constar dentro do SK_LOJA (variável 'lojas') da tabela vendas. Eu criei uma lista de 1 a 10 para comparar se todas esses números estavam de fato presentes no dataset. Logo, pode-se concluir que todas as lojas venderam sim.</i></b>"
   ]
  },
  {
   "cell_type": "code",
   "execution_count": 24,
   "id": "3f575262",
   "metadata": {
    "hidden": true
   },
   "outputs": [],
   "source": [
    "locais = [valores for valores in vendas['SK_LOC']]\n",
    "sk_local = list(range(1, 6))"
   ]
  },
  {
   "cell_type": "code",
   "execution_count": 25,
   "id": "edb47294",
   "metadata": {
    "hidden": true
   },
   "outputs": [],
   "source": [
    "serie_locais = pd.Series(locais)\n",
    "unidades_locais = serie_locais.unique()\n",
    "unidades_locais.sort()"
   ]
  },
  {
   "cell_type": "code",
   "execution_count": 27,
   "id": "d65985f6",
   "metadata": {
    "hidden": true
   },
   "outputs": [
    {
     "data": {
      "text/plain": [
       "array([1, 2, 3, 4], dtype=int64)"
      ]
     },
     "execution_count": 27,
     "metadata": {},
     "output_type": "execute_result"
    }
   ],
   "source": [
    "unidades_locais"
   ]
  },
  {
   "cell_type": "code",
   "execution_count": 26,
   "id": "a259639c",
   "metadata": {
    "hidden": true,
    "scrolled": true
   },
   "outputs": [
    {
     "name": "stdout",
     "output_type": "stream",
     "text": [
      "False\n"
     ]
    },
    {
     "name": "stderr",
     "output_type": "stream",
     "text": [
      "C:\\Users\\luizh\\AppData\\Local\\Temp/ipykernel_5632/3261278376.py:1: DeprecationWarning: elementwise comparison failed; this will raise an error in the future.\n",
      "  print(unidades_locais == sk_local)\n"
     ]
    }
   ],
   "source": [
    "print(unidades_locais == sk_local)"
   ]
  },
  {
   "cell_type": "markdown",
   "id": "ee6aafec",
   "metadata": {
    "hidden": true
   },
   "source": [
    "<b><i>Por meio dos códigos acima, pode-se subentender que, ainda que todas as lojas tenham realizado vendas no período de tempo do dataset, nem todos as localizações possuem vendas. O local 'Gama', portanto, não possui lojas indexadas a si, o que explica a sua ausência na construção dos gráficos.</i></b>"
   ]
  },
  {
   "cell_type": "markdown",
   "id": "c3ca4d6b",
   "metadata": {
    "heading_collapsed": true
   },
   "source": [
    "# Considerações Finais"
   ]
  },
  {
   "cell_type": "markdown",
   "id": "67668518",
   "metadata": {
    "hidden": true
   },
   "source": [
    "Há diversas perguntas a serem respondidas com apenas esse conjunto de dados, e cada uma delas, se bem respondida, pode vir a gerar novas outras perguntas que, por sua vez, podem vir a auxiliar numa possível tomada de decisões. Alguns exemplos são: <br>\n",
    "- Períodos do ano em que as vendas são máximas e mínimas\n",
    "- Qual o setor que mais vende em cada mercado?\n",
    "- E qual o setor que mais vende em cada localização?\n",
    "- Quais as possíveis razões para aumentos e baixas no número de vendas?\n",
    "- Há algum produto que venda mais em todas as lojas? \n",
    "- Há alguma expectativa de vendas para o final de 2020?\n",
    "- Qual loja vendeu mais por maior período de tempo? Qual vendeu menos?\n",
    "- ... <br>\n",
    "\n",
    "Decerto que nem toda resposta virá a ser útil, mas para saber disso é preciso antes perguntar. Nessa análise superficial com Python, foquei em tentar responder dúvidas que eu tive durante a elaboração do Dashboard utilizando a ferramente Power BI, dúvidas, que, talvez por eu ainda não estar tão avançado quanto gostaria no domínio da ferramente, não soube como responder utilizando apenas o o Power BI. Entendo ainda que o grande diferencial ao utilizar Python seria tentar responder perguntas mais <b> matemáticas, estatísticas e talvez até preditivas </b>, visto que utilizar SQL poderia ter sanado minhas dúvidas em tempo talvez até mais hábil. Porém, sendo bem sincero, o uso de Python em vagas para Dados com BI tende a ser considerado como um diferencial, enquanto que SQL é sempre tratado como o básico a se ter dominado, por isso a minha escolha."
   ]
  }
 ],
 "metadata": {
  "kernelspec": {
   "display_name": "Python 3 (ipykernel)",
   "language": "python",
   "name": "python3"
  },
  "language_info": {
   "codemirror_mode": {
    "name": "ipython",
    "version": 3
   },
   "file_extension": ".py",
   "mimetype": "text/x-python",
   "name": "python",
   "nbconvert_exporter": "python",
   "pygments_lexer": "ipython3",
   "version": "3.9.7"
  }
 },
 "nbformat": 4,
 "nbformat_minor": 5
}
